{
  "nbformat": 4,
  "nbformat_minor": 0,
  "metadata": {
    "colab": {
      "name": "RMathSportsRanking.ipynb",
      "provenance": [],
      "collapsed_sections": []
    },
    "kernelspec": {
      "name": "python3",
      "display_name": "Python 3"
    },
    "language_info": {
      "name": "python"
    },
    "accelerator": "GPU",
    "gpuClass": "standard"
  },
  "cells": [
    {
      "cell_type": "code",
      "source": [
        "# Pranav Narala, Rishyendra Medamanuri, Sripad Ganti\n",
        "import numpy as np"
      ],
      "metadata": {
        "id": "KnxpTj_0w_WY"
      },
      "execution_count": null,
      "outputs": []
    },
    {
      "cell_type": "code",
      "source": [
        "from google.colab import drive\n",
        "drive.mount('/content/drive')"
      ],
      "metadata": {
        "id": "zFr6RibNh4jh",
        "colab": {
          "base_uri": "https://localhost:8080/"
        },
        "outputId": "997dd18e-4bd3-4c57-fcb1-6b8e86110015"
      },
      "execution_count": null,
      "outputs": [
        {
          "output_type": "stream",
          "name": "stdout",
          "text": [
            "Drive already mounted at /content/drive; to attempt to forcibly remount, call drive.mount(\"/content/drive\", force_remount=True).\n"
          ]
        }
      ]
    },
    {
      "cell_type": "markdown",
      "source": [
        "Test Example"
      ],
      "metadata": {
        "id": "sOgPofTXSONx"
      }
    },
    {
      "cell_type": "code",
      "execution_count": null,
      "metadata": {
        "id": "K0cUVfz6ngoQ"
      },
      "outputs": [],
      "source": [
        "win_matrix = [[0, 1, 0, 0, 0, 0],\n",
        "              [0, 0, 1, 0, 1, 0],\n",
        "              [1, 0, 0, 0, 0, 0],\n",
        "              [0, 0, 1, 0, 1, 0],\n",
        "              [0, 0, 0, 0, 0, 1],\n",
        "              [1, 0, 0, 1, 0, 0]]"
      ]
    },
    {
      "cell_type": "code",
      "source": [
        "np.sum(win_matrix, axis=0)[1]"
      ],
      "metadata": {
        "colab": {
          "base_uri": "https://localhost:8080/"
        },
        "id": "D5D4rlNG9puU",
        "outputId": "24dd3f12-7d97-4ec3-a58e-23ec41041faf"
      },
      "execution_count": null,
      "outputs": [
        {
          "output_type": "execute_result",
          "data": {
            "text/plain": [
              "1"
            ]
          },
          "metadata": {},
          "execution_count": 64
        }
      ]
    },
    {
      "cell_type": "code",
      "source": [
        "T = [1/6, 1/6, 1/6, 1/6, 1/6, 1/6]\n",
        "h = 0.01"
      ],
      "metadata": {
        "id": "947h0dqfsXv9"
      },
      "execution_count": null,
      "outputs": []
    },
    {
      "cell_type": "code",
      "source": [
        "def compute_partial(t):\n",
        "  partial = 0\n",
        "  for i in range(6):\n",
        "    if i != t:\n",
        "      partial += (T[i] / (T[i] + T[t])) * (win_matrix[t][i] / T[t] - win_matrix[i][t] / T[i])\n",
        "\n",
        "  return partial"
      ],
      "metadata": {
        "id": "m_H_aIUJsMbQ"
      },
      "execution_count": null,
      "outputs": []
    },
    {
      "cell_type": "code",
      "source": [
        "for iterations in range(100):\n",
        "  for i in range(6):\n",
        "    partial = compute_partial(i)\n",
        "    new_t = (T[i] + h * partial) / sum(T)\n",
        "    T[i] = new_t"
      ],
      "metadata": {
        "id": "Yr8KLuSipFkp"
      },
      "execution_count": null,
      "outputs": []
    },
    {
      "cell_type": "code",
      "source": [
        "print(T)"
      ],
      "metadata": {
        "colab": {
          "base_uri": "https://localhost:8080/"
        },
        "id": "x5Y-p3dFs7SZ",
        "outputId": "c434e8b8-fee0-4bab-bbc1-fd489d001c3a"
      },
      "execution_count": null,
      "outputs": [
        {
          "output_type": "stream",
          "name": "stdout",
          "text": [
            "[0.07235420179546255, 0.17211594650626835, 0.07235421444213753, 0.282259714157792, 0.11865645615299598, 0.2822594734726671]\n"
          ]
        }
      ]
    },
    {
      "cell_type": "code",
      "source": [
        "# Markov Chain\n",
        "\n",
        "import numpy as np\n",
        "\n",
        "probability_distribution = np.array([[1/3, 1/3, 0, 0, 0, 0], [0, 2/3, 1/3, 0, 1/3, 0], [1/3, 0, 1/3, 0, 0, 0], [0, 0, 1/3, 2/3, 1/3, 0], [0, 0, 0, 0, 1/3, 1/3], [1/3, 0, 0, 1/3, 0, 2/3]])\n",
        "probability_distribution"
      ],
      "metadata": {
        "colab": {
          "base_uri": "https://localhost:8080/"
        },
        "id": "3G67lZ431bkI",
        "outputId": "d847eef0-d5f4-434b-d1a3-3ee7ece168e4"
      },
      "execution_count": null,
      "outputs": [
        {
          "output_type": "execute_result",
          "data": {
            "text/plain": [
              "array([[0.33333333, 0.33333333, 0.        , 0.        , 0.        ,\n",
              "        0.        ],\n",
              "       [0.        , 0.66666667, 0.33333333, 0.        , 0.33333333,\n",
              "        0.        ],\n",
              "       [0.33333333, 0.        , 0.33333333, 0.        , 0.        ,\n",
              "        0.        ],\n",
              "       [0.        , 0.        , 0.33333333, 0.66666667, 0.33333333,\n",
              "        0.        ],\n",
              "       [0.        , 0.        , 0.        , 0.        , 0.33333333,\n",
              "        0.33333333],\n",
              "       [0.33333333, 0.        , 0.        , 0.33333333, 0.        ,\n",
              "        0.66666667]])"
            ]
          },
          "metadata": {},
          "execution_count": 69
        }
      ]
    },
    {
      "cell_type": "code",
      "source": [
        "p_values = np.array([1000, 1000, 1000, 1000, 1000, 1000])\n",
        "\n",
        "for x in range(100):\n",
        "  p_values = np.matmul(probability_distribution, p_values)"
      ],
      "metadata": {
        "id": "N04bHvqU2KXu"
      },
      "execution_count": null,
      "outputs": []
    },
    {
      "cell_type": "code",
      "source": [
        "p_values / sum(p_values)"
      ],
      "metadata": {
        "colab": {
          "base_uri": "https://localhost:8080/"
        },
        "id": "sw0_0n-P32UD",
        "outputId": "ef883553-3660-4540-c12b-08d52b45777d"
      },
      "execution_count": null,
      "outputs": [
        {
          "output_type": "execute_result",
          "data": {
            "text/plain": [
              "array([0.1 , 0.2 , 0.05, 0.2 , 0.15, 0.3 ])"
            ]
          },
          "metadata": {},
          "execution_count": 71
        }
      ]
    },
    {
      "cell_type": "markdown",
      "source": [
        "# **Maximum Likelihood IPL Rankings**"
      ],
      "metadata": {
        "id": "NOGzvddl4MSK"
      }
    },
    {
      "cell_type": "code",
      "source": [
        "# Applying to IPL Data\n",
        "# Using Maximum Likelihood Method\n",
        "\n",
        "import pandas as pd\n",
        "import numpy as np"
      ],
      "metadata": {
        "id": "s8faY333CMnl"
      },
      "execution_count": null,
      "outputs": []
    },
    {
      "cell_type": "code",
      "source": [
        "ipl_data = pd.read_csv('/content/drive/MyDrive/SportsRankingsData/IPL_Matches_2022.csv')\n",
        "ipl_data.head(10)"
      ],
      "metadata": {
        "colab": {
          "base_uri": "https://localhost:8080/",
          "height": 1000
        },
        "id": "KpyX5LZZCcrF",
        "outputId": "c9e37f13-94a7-4a42-bbbc-8224e6ba84b8"
      },
      "execution_count": null,
      "outputs": [
        {
          "output_type": "execute_result",
          "data": {
            "text/plain": [
              "        ID         City        Date  Season  MatchNumber  \\\n",
              "0  1312200    Ahmedabad  2022-05-29    2022        Final   \n",
              "1  1312199    Ahmedabad  2022-05-27    2022  Qualifier 2   \n",
              "2  1312198      Kolkata  2022-05-25    2022   Eliminator   \n",
              "3  1312197      Kolkata  2022-05-24    2022  Qualifier 1   \n",
              "4  1304116       Mumbai  2022-05-22    2022           70   \n",
              "5  1304115       Mumbai  2022-05-21    2022           69   \n",
              "6  1304114       Mumbai  2022-05-20    2022           68   \n",
              "7  1304113       Mumbai  2022-05-19    2022           67   \n",
              "8  1304112  Navi Mumbai  2022-05-18    2022           66   \n",
              "9  1304111       Mumbai  2022-05-17    2022           65   \n",
              "\n",
              "                         Team1                        Team2  \\\n",
              "0             Rajasthan Royals               Gujarat Titans   \n",
              "1  Royal Challengers Bangalore             Rajasthan Royals   \n",
              "2  Royal Challengers Bangalore         Lucknow Super Giants   \n",
              "3             Rajasthan Royals               Gujarat Titans   \n",
              "4          Sunrisers Hyderabad                 Punjab Kings   \n",
              "5               Delhi Capitals               Mumbai Indians   \n",
              "6          Chennai Super Kings             Rajasthan Royals   \n",
              "7               Gujarat Titans  Royal Challengers Bangalore   \n",
              "8         Lucknow Super Giants        Kolkata Knight Riders   \n",
              "9          Sunrisers Hyderabad               Mumbai Indians   \n",
              "\n",
              "                                Venue            TossWinner TossDecision  \\\n",
              "0    Narendra Modi Stadium, Ahmedabad      Rajasthan Royals          bat   \n",
              "1    Narendra Modi Stadium, Ahmedabad      Rajasthan Royals        field   \n",
              "2               Eden Gardens, Kolkata  Lucknow Super Giants        field   \n",
              "3               Eden Gardens, Kolkata        Gujarat Titans        field   \n",
              "4            Wankhede Stadium, Mumbai   Sunrisers Hyderabad          bat   \n",
              "5            Wankhede Stadium, Mumbai        Mumbai Indians        field   \n",
              "6           Brabourne Stadium, Mumbai   Chennai Super Kings          bat   \n",
              "7            Wankhede Stadium, Mumbai        Gujarat Titans          bat   \n",
              "8  Dr DY Patil Sports Academy, Mumbai  Lucknow Super Giants          bat   \n",
              "9            Wankhede Stadium, Mumbai        Mumbai Indians        field   \n",
              "\n",
              "  SuperOver                  WinningTeam    WonBy  Margin  method  \\\n",
              "0         N               Gujarat Titans  Wickets       7     NaN   \n",
              "1         N             Rajasthan Royals  Wickets       7     NaN   \n",
              "2         N  Royal Challengers Bangalore     Runs      14     NaN   \n",
              "3         N               Gujarat Titans  Wickets       7     NaN   \n",
              "4         N                 Punjab Kings  Wickets       5     NaN   \n",
              "5         N               Mumbai Indians  Wickets       5     NaN   \n",
              "6         N             Rajasthan Royals  Wickets       5     NaN   \n",
              "7         N  Royal Challengers Bangalore  Wickets       8     NaN   \n",
              "8         N         Lucknow Super Giants     Runs       2     NaN   \n",
              "9         N          Sunrisers Hyderabad     Runs       3     NaN   \n",
              "\n",
              "  Player_of_Match                                       Team1Players  \\\n",
              "0       HH Pandya  ['YBK Jaiswal', 'JC Buttler', 'SV Samson', 'D ...   \n",
              "1      JC Buttler  ['V Kohli', 'F du Plessis', 'RM Patidar', 'GJ ...   \n",
              "2      RM Patidar  ['V Kohli', 'F du Plessis', 'RM Patidar', 'GJ ...   \n",
              "3       DA Miller  ['YBK Jaiswal', 'JC Buttler', 'SV Samson', 'D ...   \n",
              "4   Harpreet Brar  ['PK Garg', 'Abhishek Sharma', 'RA Tripathi', ...   \n",
              "5       JJ Bumrah  ['PP Shaw', 'DA Warner', 'MR Marsh', 'RR Pant'...   \n",
              "6        R Ashwin  ['RD Gaikwad', 'DP Conway', 'MM Ali', 'N Jagad...   \n",
              "7         V Kohli  ['WP Saha', 'Shubman Gill', 'MS Wade', 'HH Pan...   \n",
              "8       Q de Kock  ['Q de Kock', 'KL Rahul', 'E Lewis', 'DJ Hooda...   \n",
              "9     RA Tripathi  ['Abhishek Sharma', 'PK Garg', 'RA Tripathi', ...   \n",
              "\n",
              "                                        Team2Players                Umpire1  \\\n",
              "0  ['WP Saha', 'Shubman Gill', 'MS Wade', 'HH Pan...            CB Gaffaney   \n",
              "1  ['YBK Jaiswal', 'JC Buttler', 'SV Samson', 'D ...            CB Gaffaney   \n",
              "2  ['Q de Kock', 'KL Rahul', 'M Vohra', 'DJ Hooda...          J Madanagopal   \n",
              "3  ['WP Saha', 'Shubman Gill', 'MS Wade', 'HH Pan...           BNJ Oxenford   \n",
              "4  ['JM Bairstow', 'S Dhawan', 'M Shahrukh Khan',...           AK Chaudhary   \n",
              "5  ['Ishan Kishan', 'RG Sharma', 'D Brevis', 'Til...            Nitin Menon   \n",
              "6  ['YBK Jaiswal', 'JC Buttler', 'SV Samson', 'D ...            CB Gaffaney   \n",
              "7  ['V Kohli', 'F du Plessis', 'GJ Maxwell', 'KD ...  KN Ananthapadmanabhan   \n",
              "8  ['VR Iyer', 'A Tomar', 'N Rana', 'SS Iyer', 'S...               R Pandit   \n",
              "9  ['RG Sharma', 'Ishan Kishan', 'DR Sams', 'Tila...            CB Gaffaney   \n",
              "\n",
              "            Umpire2  \n",
              "0       Nitin Menon  \n",
              "1       Nitin Menon  \n",
              "2          MA Gough  \n",
              "3         VK Sharma  \n",
              "4     NA Patwardhan  \n",
              "5      Tapan Sharma  \n",
              "6     NA Patwardhan  \n",
              "7  GR Sadashiv Iyer  \n",
              "8          YC Barde  \n",
              "9          N Pandit  "
            ],
            "text/html": [
              "\n",
              "  <div id=\"df-db489bbc-4753-43b9-9151-e62af7413ddc\">\n",
              "    <div class=\"colab-df-container\">\n",
              "      <div>\n",
              "<style scoped>\n",
              "    .dataframe tbody tr th:only-of-type {\n",
              "        vertical-align: middle;\n",
              "    }\n",
              "\n",
              "    .dataframe tbody tr th {\n",
              "        vertical-align: top;\n",
              "    }\n",
              "\n",
              "    .dataframe thead th {\n",
              "        text-align: right;\n",
              "    }\n",
              "</style>\n",
              "<table border=\"1\" class=\"dataframe\">\n",
              "  <thead>\n",
              "    <tr style=\"text-align: right;\">\n",
              "      <th></th>\n",
              "      <th>ID</th>\n",
              "      <th>City</th>\n",
              "      <th>Date</th>\n",
              "      <th>Season</th>\n",
              "      <th>MatchNumber</th>\n",
              "      <th>Team1</th>\n",
              "      <th>Team2</th>\n",
              "      <th>Venue</th>\n",
              "      <th>TossWinner</th>\n",
              "      <th>TossDecision</th>\n",
              "      <th>SuperOver</th>\n",
              "      <th>WinningTeam</th>\n",
              "      <th>WonBy</th>\n",
              "      <th>Margin</th>\n",
              "      <th>method</th>\n",
              "      <th>Player_of_Match</th>\n",
              "      <th>Team1Players</th>\n",
              "      <th>Team2Players</th>\n",
              "      <th>Umpire1</th>\n",
              "      <th>Umpire2</th>\n",
              "    </tr>\n",
              "  </thead>\n",
              "  <tbody>\n",
              "    <tr>\n",
              "      <th>0</th>\n",
              "      <td>1312200</td>\n",
              "      <td>Ahmedabad</td>\n",
              "      <td>2022-05-29</td>\n",
              "      <td>2022</td>\n",
              "      <td>Final</td>\n",
              "      <td>Rajasthan Royals</td>\n",
              "      <td>Gujarat Titans</td>\n",
              "      <td>Narendra Modi Stadium, Ahmedabad</td>\n",
              "      <td>Rajasthan Royals</td>\n",
              "      <td>bat</td>\n",
              "      <td>N</td>\n",
              "      <td>Gujarat Titans</td>\n",
              "      <td>Wickets</td>\n",
              "      <td>7</td>\n",
              "      <td>NaN</td>\n",
              "      <td>HH Pandya</td>\n",
              "      <td>['YBK Jaiswal', 'JC Buttler', 'SV Samson', 'D ...</td>\n",
              "      <td>['WP Saha', 'Shubman Gill', 'MS Wade', 'HH Pan...</td>\n",
              "      <td>CB Gaffaney</td>\n",
              "      <td>Nitin Menon</td>\n",
              "    </tr>\n",
              "    <tr>\n",
              "      <th>1</th>\n",
              "      <td>1312199</td>\n",
              "      <td>Ahmedabad</td>\n",
              "      <td>2022-05-27</td>\n",
              "      <td>2022</td>\n",
              "      <td>Qualifier 2</td>\n",
              "      <td>Royal Challengers Bangalore</td>\n",
              "      <td>Rajasthan Royals</td>\n",
              "      <td>Narendra Modi Stadium, Ahmedabad</td>\n",
              "      <td>Rajasthan Royals</td>\n",
              "      <td>field</td>\n",
              "      <td>N</td>\n",
              "      <td>Rajasthan Royals</td>\n",
              "      <td>Wickets</td>\n",
              "      <td>7</td>\n",
              "      <td>NaN</td>\n",
              "      <td>JC Buttler</td>\n",
              "      <td>['V Kohli', 'F du Plessis', 'RM Patidar', 'GJ ...</td>\n",
              "      <td>['YBK Jaiswal', 'JC Buttler', 'SV Samson', 'D ...</td>\n",
              "      <td>CB Gaffaney</td>\n",
              "      <td>Nitin Menon</td>\n",
              "    </tr>\n",
              "    <tr>\n",
              "      <th>2</th>\n",
              "      <td>1312198</td>\n",
              "      <td>Kolkata</td>\n",
              "      <td>2022-05-25</td>\n",
              "      <td>2022</td>\n",
              "      <td>Eliminator</td>\n",
              "      <td>Royal Challengers Bangalore</td>\n",
              "      <td>Lucknow Super Giants</td>\n",
              "      <td>Eden Gardens, Kolkata</td>\n",
              "      <td>Lucknow Super Giants</td>\n",
              "      <td>field</td>\n",
              "      <td>N</td>\n",
              "      <td>Royal Challengers Bangalore</td>\n",
              "      <td>Runs</td>\n",
              "      <td>14</td>\n",
              "      <td>NaN</td>\n",
              "      <td>RM Patidar</td>\n",
              "      <td>['V Kohli', 'F du Plessis', 'RM Patidar', 'GJ ...</td>\n",
              "      <td>['Q de Kock', 'KL Rahul', 'M Vohra', 'DJ Hooda...</td>\n",
              "      <td>J Madanagopal</td>\n",
              "      <td>MA Gough</td>\n",
              "    </tr>\n",
              "    <tr>\n",
              "      <th>3</th>\n",
              "      <td>1312197</td>\n",
              "      <td>Kolkata</td>\n",
              "      <td>2022-05-24</td>\n",
              "      <td>2022</td>\n",
              "      <td>Qualifier 1</td>\n",
              "      <td>Rajasthan Royals</td>\n",
              "      <td>Gujarat Titans</td>\n",
              "      <td>Eden Gardens, Kolkata</td>\n",
              "      <td>Gujarat Titans</td>\n",
              "      <td>field</td>\n",
              "      <td>N</td>\n",
              "      <td>Gujarat Titans</td>\n",
              "      <td>Wickets</td>\n",
              "      <td>7</td>\n",
              "      <td>NaN</td>\n",
              "      <td>DA Miller</td>\n",
              "      <td>['YBK Jaiswal', 'JC Buttler', 'SV Samson', 'D ...</td>\n",
              "      <td>['WP Saha', 'Shubman Gill', 'MS Wade', 'HH Pan...</td>\n",
              "      <td>BNJ Oxenford</td>\n",
              "      <td>VK Sharma</td>\n",
              "    </tr>\n",
              "    <tr>\n",
              "      <th>4</th>\n",
              "      <td>1304116</td>\n",
              "      <td>Mumbai</td>\n",
              "      <td>2022-05-22</td>\n",
              "      <td>2022</td>\n",
              "      <td>70</td>\n",
              "      <td>Sunrisers Hyderabad</td>\n",
              "      <td>Punjab Kings</td>\n",
              "      <td>Wankhede Stadium, Mumbai</td>\n",
              "      <td>Sunrisers Hyderabad</td>\n",
              "      <td>bat</td>\n",
              "      <td>N</td>\n",
              "      <td>Punjab Kings</td>\n",
              "      <td>Wickets</td>\n",
              "      <td>5</td>\n",
              "      <td>NaN</td>\n",
              "      <td>Harpreet Brar</td>\n",
              "      <td>['PK Garg', 'Abhishek Sharma', 'RA Tripathi', ...</td>\n",
              "      <td>['JM Bairstow', 'S Dhawan', 'M Shahrukh Khan',...</td>\n",
              "      <td>AK Chaudhary</td>\n",
              "      <td>NA Patwardhan</td>\n",
              "    </tr>\n",
              "    <tr>\n",
              "      <th>5</th>\n",
              "      <td>1304115</td>\n",
              "      <td>Mumbai</td>\n",
              "      <td>2022-05-21</td>\n",
              "      <td>2022</td>\n",
              "      <td>69</td>\n",
              "      <td>Delhi Capitals</td>\n",
              "      <td>Mumbai Indians</td>\n",
              "      <td>Wankhede Stadium, Mumbai</td>\n",
              "      <td>Mumbai Indians</td>\n",
              "      <td>field</td>\n",
              "      <td>N</td>\n",
              "      <td>Mumbai Indians</td>\n",
              "      <td>Wickets</td>\n",
              "      <td>5</td>\n",
              "      <td>NaN</td>\n",
              "      <td>JJ Bumrah</td>\n",
              "      <td>['PP Shaw', 'DA Warner', 'MR Marsh', 'RR Pant'...</td>\n",
              "      <td>['Ishan Kishan', 'RG Sharma', 'D Brevis', 'Til...</td>\n",
              "      <td>Nitin Menon</td>\n",
              "      <td>Tapan Sharma</td>\n",
              "    </tr>\n",
              "    <tr>\n",
              "      <th>6</th>\n",
              "      <td>1304114</td>\n",
              "      <td>Mumbai</td>\n",
              "      <td>2022-05-20</td>\n",
              "      <td>2022</td>\n",
              "      <td>68</td>\n",
              "      <td>Chennai Super Kings</td>\n",
              "      <td>Rajasthan Royals</td>\n",
              "      <td>Brabourne Stadium, Mumbai</td>\n",
              "      <td>Chennai Super Kings</td>\n",
              "      <td>bat</td>\n",
              "      <td>N</td>\n",
              "      <td>Rajasthan Royals</td>\n",
              "      <td>Wickets</td>\n",
              "      <td>5</td>\n",
              "      <td>NaN</td>\n",
              "      <td>R Ashwin</td>\n",
              "      <td>['RD Gaikwad', 'DP Conway', 'MM Ali', 'N Jagad...</td>\n",
              "      <td>['YBK Jaiswal', 'JC Buttler', 'SV Samson', 'D ...</td>\n",
              "      <td>CB Gaffaney</td>\n",
              "      <td>NA Patwardhan</td>\n",
              "    </tr>\n",
              "    <tr>\n",
              "      <th>7</th>\n",
              "      <td>1304113</td>\n",
              "      <td>Mumbai</td>\n",
              "      <td>2022-05-19</td>\n",
              "      <td>2022</td>\n",
              "      <td>67</td>\n",
              "      <td>Gujarat Titans</td>\n",
              "      <td>Royal Challengers Bangalore</td>\n",
              "      <td>Wankhede Stadium, Mumbai</td>\n",
              "      <td>Gujarat Titans</td>\n",
              "      <td>bat</td>\n",
              "      <td>N</td>\n",
              "      <td>Royal Challengers Bangalore</td>\n",
              "      <td>Wickets</td>\n",
              "      <td>8</td>\n",
              "      <td>NaN</td>\n",
              "      <td>V Kohli</td>\n",
              "      <td>['WP Saha', 'Shubman Gill', 'MS Wade', 'HH Pan...</td>\n",
              "      <td>['V Kohli', 'F du Plessis', 'GJ Maxwell', 'KD ...</td>\n",
              "      <td>KN Ananthapadmanabhan</td>\n",
              "      <td>GR Sadashiv Iyer</td>\n",
              "    </tr>\n",
              "    <tr>\n",
              "      <th>8</th>\n",
              "      <td>1304112</td>\n",
              "      <td>Navi Mumbai</td>\n",
              "      <td>2022-05-18</td>\n",
              "      <td>2022</td>\n",
              "      <td>66</td>\n",
              "      <td>Lucknow Super Giants</td>\n",
              "      <td>Kolkata Knight Riders</td>\n",
              "      <td>Dr DY Patil Sports Academy, Mumbai</td>\n",
              "      <td>Lucknow Super Giants</td>\n",
              "      <td>bat</td>\n",
              "      <td>N</td>\n",
              "      <td>Lucknow Super Giants</td>\n",
              "      <td>Runs</td>\n",
              "      <td>2</td>\n",
              "      <td>NaN</td>\n",
              "      <td>Q de Kock</td>\n",
              "      <td>['Q de Kock', 'KL Rahul', 'E Lewis', 'DJ Hooda...</td>\n",
              "      <td>['VR Iyer', 'A Tomar', 'N Rana', 'SS Iyer', 'S...</td>\n",
              "      <td>R Pandit</td>\n",
              "      <td>YC Barde</td>\n",
              "    </tr>\n",
              "    <tr>\n",
              "      <th>9</th>\n",
              "      <td>1304111</td>\n",
              "      <td>Mumbai</td>\n",
              "      <td>2022-05-17</td>\n",
              "      <td>2022</td>\n",
              "      <td>65</td>\n",
              "      <td>Sunrisers Hyderabad</td>\n",
              "      <td>Mumbai Indians</td>\n",
              "      <td>Wankhede Stadium, Mumbai</td>\n",
              "      <td>Mumbai Indians</td>\n",
              "      <td>field</td>\n",
              "      <td>N</td>\n",
              "      <td>Sunrisers Hyderabad</td>\n",
              "      <td>Runs</td>\n",
              "      <td>3</td>\n",
              "      <td>NaN</td>\n",
              "      <td>RA Tripathi</td>\n",
              "      <td>['Abhishek Sharma', 'PK Garg', 'RA Tripathi', ...</td>\n",
              "      <td>['RG Sharma', 'Ishan Kishan', 'DR Sams', 'Tila...</td>\n",
              "      <td>CB Gaffaney</td>\n",
              "      <td>N Pandit</td>\n",
              "    </tr>\n",
              "  </tbody>\n",
              "</table>\n",
              "</div>\n",
              "      <button class=\"colab-df-convert\" onclick=\"convertToInteractive('df-db489bbc-4753-43b9-9151-e62af7413ddc')\"\n",
              "              title=\"Convert this dataframe to an interactive table.\"\n",
              "              style=\"display:none;\">\n",
              "        \n",
              "  <svg xmlns=\"http://www.w3.org/2000/svg\" height=\"24px\"viewBox=\"0 0 24 24\"\n",
              "       width=\"24px\">\n",
              "    <path d=\"M0 0h24v24H0V0z\" fill=\"none\"/>\n",
              "    <path d=\"M18.56 5.44l.94 2.06.94-2.06 2.06-.94-2.06-.94-.94-2.06-.94 2.06-2.06.94zm-11 1L8.5 8.5l.94-2.06 2.06-.94-2.06-.94L8.5 2.5l-.94 2.06-2.06.94zm10 10l.94 2.06.94-2.06 2.06-.94-2.06-.94-.94-2.06-.94 2.06-2.06.94z\"/><path d=\"M17.41 7.96l-1.37-1.37c-.4-.4-.92-.59-1.43-.59-.52 0-1.04.2-1.43.59L10.3 9.45l-7.72 7.72c-.78.78-.78 2.05 0 2.83L4 21.41c.39.39.9.59 1.41.59.51 0 1.02-.2 1.41-.59l7.78-7.78 2.81-2.81c.8-.78.8-2.07 0-2.86zM5.41 20L4 18.59l7.72-7.72 1.47 1.35L5.41 20z\"/>\n",
              "  </svg>\n",
              "      </button>\n",
              "      \n",
              "  <style>\n",
              "    .colab-df-container {\n",
              "      display:flex;\n",
              "      flex-wrap:wrap;\n",
              "      gap: 12px;\n",
              "    }\n",
              "\n",
              "    .colab-df-convert {\n",
              "      background-color: #E8F0FE;\n",
              "      border: none;\n",
              "      border-radius: 50%;\n",
              "      cursor: pointer;\n",
              "      display: none;\n",
              "      fill: #1967D2;\n",
              "      height: 32px;\n",
              "      padding: 0 0 0 0;\n",
              "      width: 32px;\n",
              "    }\n",
              "\n",
              "    .colab-df-convert:hover {\n",
              "      background-color: #E2EBFA;\n",
              "      box-shadow: 0px 1px 2px rgba(60, 64, 67, 0.3), 0px 1px 3px 1px rgba(60, 64, 67, 0.15);\n",
              "      fill: #174EA6;\n",
              "    }\n",
              "\n",
              "    [theme=dark] .colab-df-convert {\n",
              "      background-color: #3B4455;\n",
              "      fill: #D2E3FC;\n",
              "    }\n",
              "\n",
              "    [theme=dark] .colab-df-convert:hover {\n",
              "      background-color: #434B5C;\n",
              "      box-shadow: 0px 1px 3px 1px rgba(0, 0, 0, 0.15);\n",
              "      filter: drop-shadow(0px 1px 2px rgba(0, 0, 0, 0.3));\n",
              "      fill: #FFFFFF;\n",
              "    }\n",
              "  </style>\n",
              "\n",
              "      <script>\n",
              "        const buttonEl =\n",
              "          document.querySelector('#df-db489bbc-4753-43b9-9151-e62af7413ddc button.colab-df-convert');\n",
              "        buttonEl.style.display =\n",
              "          google.colab.kernel.accessAllowed ? 'block' : 'none';\n",
              "\n",
              "        async function convertToInteractive(key) {\n",
              "          const element = document.querySelector('#df-db489bbc-4753-43b9-9151-e62af7413ddc');\n",
              "          const dataTable =\n",
              "            await google.colab.kernel.invokeFunction('convertToInteractive',\n",
              "                                                     [key], {});\n",
              "          if (!dataTable) return;\n",
              "\n",
              "          const docLinkHtml = 'Like what you see? Visit the ' +\n",
              "            '<a target=\"_blank\" href=https://colab.research.google.com/notebooks/data_table.ipynb>data table notebook</a>'\n",
              "            + ' to learn more about interactive tables.';\n",
              "          element.innerHTML = '';\n",
              "          dataTable['output_type'] = 'display_data';\n",
              "          await google.colab.output.renderOutput(dataTable, element);\n",
              "          const docLink = document.createElement('div');\n",
              "          docLink.innerHTML = docLinkHtml;\n",
              "          element.appendChild(docLink);\n",
              "        }\n",
              "      </script>\n",
              "    </div>\n",
              "  </div>\n",
              "  "
            ]
          },
          "metadata": {},
          "execution_count": 73
        }
      ]
    },
    {
      "cell_type": "code",
      "source": [
        "ipl_data.tail(10)"
      ],
      "metadata": {
        "colab": {
          "base_uri": "https://localhost:8080/",
          "height": 1000
        },
        "id": "QhelAYKRE0Uj",
        "outputId": "abf6e135-5752-4c05-80db-ba851a6a146d"
      },
      "execution_count": null,
      "outputs": [
        {
          "output_type": "execute_result",
          "data": {
            "text/plain": [
              "         ID    City        Date  Season MatchNumber  \\\n",
              "64  1304056    Pune  2022-04-02    2022          10   \n",
              "65  1304055  Mumbai  2022-04-02    2022           9   \n",
              "66  1304054  Mumbai  2022-04-01    2022           8   \n",
              "67  1304053  Mumbai  2022-03-31    2022           7   \n",
              "68  1304052  Mumbai  2022-03-30    2022           6   \n",
              "69  1304051    Pune  2022-03-29    2022           5   \n",
              "70  1304050  Mumbai  2022-03-28    2022           4   \n",
              "71  1304049  Mumbai  2022-03-27    2022           3   \n",
              "72  1304048  Mumbai  2022-03-27    2022           2   \n",
              "73  1304047  Mumbai  2022-03-26    2022           1   \n",
              "\n",
              "                          Team1                        Team2  \\\n",
              "64               Gujarat Titans               Delhi Capitals   \n",
              "65             Rajasthan Royals               Mumbai Indians   \n",
              "66                 Punjab Kings        Kolkata Knight Riders   \n",
              "67          Chennai Super Kings         Lucknow Super Giants   \n",
              "68        Kolkata Knight Riders  Royal Challengers Bangalore   \n",
              "69             Rajasthan Royals          Sunrisers Hyderabad   \n",
              "70         Lucknow Super Giants               Gujarat Titans   \n",
              "71  Royal Challengers Bangalore                 Punjab Kings   \n",
              "72               Mumbai Indians               Delhi Capitals   \n",
              "73          Chennai Super Kings        Kolkata Knight Riders   \n",
              "\n",
              "                                            Venue  \\\n",
              "64  Maharashtra Cricket Association Stadium, Pune   \n",
              "65             Dr DY Patil Sports Academy, Mumbai   \n",
              "66                       Wankhede Stadium, Mumbai   \n",
              "67                      Brabourne Stadium, Mumbai   \n",
              "68             Dr DY Patil Sports Academy, Mumbai   \n",
              "69  Maharashtra Cricket Association Stadium, Pune   \n",
              "70                       Wankhede Stadium, Mumbai   \n",
              "71             Dr DY Patil Sports Academy, Mumbai   \n",
              "72                      Brabourne Stadium, Mumbai   \n",
              "73                       Wankhede Stadium, Mumbai   \n",
              "\n",
              "                     TossWinner TossDecision SuperOver  \\\n",
              "64               Delhi Capitals        field         N   \n",
              "65               Mumbai Indians        field         N   \n",
              "66        Kolkata Knight Riders        field         N   \n",
              "67         Lucknow Super Giants        field         N   \n",
              "68  Royal Challengers Bangalore        field         N   \n",
              "69          Sunrisers Hyderabad        field         N   \n",
              "70               Gujarat Titans        field         N   \n",
              "71                 Punjab Kings        field         N   \n",
              "72               Delhi Capitals        field         N   \n",
              "73        Kolkata Knight Riders        field         N   \n",
              "\n",
              "                    WinningTeam    WonBy  Margin  method Player_of_Match  \\\n",
              "64               Gujarat Titans     Runs      14     NaN     LH Ferguson   \n",
              "65             Rajasthan Royals     Runs      23     NaN      JC Buttler   \n",
              "66        Kolkata Knight Riders  Wickets       6     NaN        UT Yadav   \n",
              "67         Lucknow Super Giants  Wickets       6     NaN         E Lewis   \n",
              "68  Royal Challengers Bangalore  Wickets       3     NaN    PWH de Silva   \n",
              "69             Rajasthan Royals     Runs      61     NaN       SV Samson   \n",
              "70               Gujarat Titans  Wickets       5     NaN  Mohammed Shami   \n",
              "71                 Punjab Kings  Wickets       5     NaN        OF Smith   \n",
              "72               Delhi Capitals  Wickets       4     NaN   Kuldeep Yadav   \n",
              "73        Kolkata Knight Riders  Wickets       6     NaN        UT Yadav   \n",
              "\n",
              "                                         Team1Players  \\\n",
              "64  ['MS Wade', 'Shubman Gill', 'V Shankar', 'HH P...   \n",
              "65  ['JC Buttler', 'YBK Jaiswal', 'D Padikkal', 'S...   \n",
              "66  ['MA Agarwal', 'S Dhawan', 'PBB Rajapaksa', 'L...   \n",
              "67  ['RV Uthappa', 'RD Gaikwad', 'MM Ali', 'S Dube...   \n",
              "68  ['AM Rahane', 'VR Iyer', 'SS Iyer', 'N Rana', ...   \n",
              "69  ['JC Buttler', 'YBK Jaiswal', 'SV Samson', 'D ...   \n",
              "70  ['KL Rahul', 'Q de Kock', 'E Lewis', 'MK Pande...   \n",
              "71  ['F du Plessis', 'Anuj Rawat', 'V Kohli', 'KD ...   \n",
              "72  ['RG Sharma', 'Ishan Kishan', 'Anmolpreet Sing...   \n",
              "73  ['RD Gaikwad', 'DP Conway', 'RV Uthappa', 'AT ...   \n",
              "\n",
              "                                         Team2Players                Umpire1  \\\n",
              "64  ['PP Shaw', 'TL Seifert', 'Mandeep Singh', 'RR...  KN Ananthapadmanabhan   \n",
              "65  ['Ishan Kishan', 'RG Sharma', 'Anmolpreet Sing...            Nitin Menon   \n",
              "66  ['AM Rahane', 'VR Iyer', 'SS Iyer', 'SW Billin...           AK Chaudhary   \n",
              "67  ['KL Rahul', 'Q de Kock', 'MK Pandey', 'E Lewi...              RJ Tucker   \n",
              "68  ['F du Plessis', 'Anuj Rawat', 'V Kohli', 'DJ ...          J Madanagopal   \n",
              "69  ['KS Williamson', 'Abhishek Sharma', 'RA Tripa...           BNJ Oxenford   \n",
              "70  ['Shubman Gill', 'MS Wade', 'V Shankar', 'HH P...              PG Pathak   \n",
              "71  ['MA Agarwal', 'S Dhawan', 'PBB Rajapaksa', 'L...            Nitin Menon   \n",
              "72  ['PP Shaw', 'TL Seifert', 'Mandeep Singh', 'RR...              RJ Tucker   \n",
              "73  ['AM Rahane', 'VR Iyer', 'N Rana', 'SS Iyer', ...           AK Chaudhary   \n",
              "\n",
              "          Umpire2  \n",
              "64      UV Gandhe  \n",
              "65      PG Pathak  \n",
              "66     HAS Khalid  \n",
              "67      VK Sharma  \n",
              "68  Navdeep Singh  \n",
              "69      UV Gandhe  \n",
              "70      VK Sharma  \n",
              "71       YC Barde  \n",
              "72     HAS Khalid  \n",
              "73    Nitin Menon  "
            ],
            "text/html": [
              "\n",
              "  <div id=\"df-e72f1e8f-377f-4d0d-b32f-37e79695caef\">\n",
              "    <div class=\"colab-df-container\">\n",
              "      <div>\n",
              "<style scoped>\n",
              "    .dataframe tbody tr th:only-of-type {\n",
              "        vertical-align: middle;\n",
              "    }\n",
              "\n",
              "    .dataframe tbody tr th {\n",
              "        vertical-align: top;\n",
              "    }\n",
              "\n",
              "    .dataframe thead th {\n",
              "        text-align: right;\n",
              "    }\n",
              "</style>\n",
              "<table border=\"1\" class=\"dataframe\">\n",
              "  <thead>\n",
              "    <tr style=\"text-align: right;\">\n",
              "      <th></th>\n",
              "      <th>ID</th>\n",
              "      <th>City</th>\n",
              "      <th>Date</th>\n",
              "      <th>Season</th>\n",
              "      <th>MatchNumber</th>\n",
              "      <th>Team1</th>\n",
              "      <th>Team2</th>\n",
              "      <th>Venue</th>\n",
              "      <th>TossWinner</th>\n",
              "      <th>TossDecision</th>\n",
              "      <th>SuperOver</th>\n",
              "      <th>WinningTeam</th>\n",
              "      <th>WonBy</th>\n",
              "      <th>Margin</th>\n",
              "      <th>method</th>\n",
              "      <th>Player_of_Match</th>\n",
              "      <th>Team1Players</th>\n",
              "      <th>Team2Players</th>\n",
              "      <th>Umpire1</th>\n",
              "      <th>Umpire2</th>\n",
              "    </tr>\n",
              "  </thead>\n",
              "  <tbody>\n",
              "    <tr>\n",
              "      <th>64</th>\n",
              "      <td>1304056</td>\n",
              "      <td>Pune</td>\n",
              "      <td>2022-04-02</td>\n",
              "      <td>2022</td>\n",
              "      <td>10</td>\n",
              "      <td>Gujarat Titans</td>\n",
              "      <td>Delhi Capitals</td>\n",
              "      <td>Maharashtra Cricket Association Stadium, Pune</td>\n",
              "      <td>Delhi Capitals</td>\n",
              "      <td>field</td>\n",
              "      <td>N</td>\n",
              "      <td>Gujarat Titans</td>\n",
              "      <td>Runs</td>\n",
              "      <td>14</td>\n",
              "      <td>NaN</td>\n",
              "      <td>LH Ferguson</td>\n",
              "      <td>['MS Wade', 'Shubman Gill', 'V Shankar', 'HH P...</td>\n",
              "      <td>['PP Shaw', 'TL Seifert', 'Mandeep Singh', 'RR...</td>\n",
              "      <td>KN Ananthapadmanabhan</td>\n",
              "      <td>UV Gandhe</td>\n",
              "    </tr>\n",
              "    <tr>\n",
              "      <th>65</th>\n",
              "      <td>1304055</td>\n",
              "      <td>Mumbai</td>\n",
              "      <td>2022-04-02</td>\n",
              "      <td>2022</td>\n",
              "      <td>9</td>\n",
              "      <td>Rajasthan Royals</td>\n",
              "      <td>Mumbai Indians</td>\n",
              "      <td>Dr DY Patil Sports Academy, Mumbai</td>\n",
              "      <td>Mumbai Indians</td>\n",
              "      <td>field</td>\n",
              "      <td>N</td>\n",
              "      <td>Rajasthan Royals</td>\n",
              "      <td>Runs</td>\n",
              "      <td>23</td>\n",
              "      <td>NaN</td>\n",
              "      <td>JC Buttler</td>\n",
              "      <td>['JC Buttler', 'YBK Jaiswal', 'D Padikkal', 'S...</td>\n",
              "      <td>['Ishan Kishan', 'RG Sharma', 'Anmolpreet Sing...</td>\n",
              "      <td>Nitin Menon</td>\n",
              "      <td>PG Pathak</td>\n",
              "    </tr>\n",
              "    <tr>\n",
              "      <th>66</th>\n",
              "      <td>1304054</td>\n",
              "      <td>Mumbai</td>\n",
              "      <td>2022-04-01</td>\n",
              "      <td>2022</td>\n",
              "      <td>8</td>\n",
              "      <td>Punjab Kings</td>\n",
              "      <td>Kolkata Knight Riders</td>\n",
              "      <td>Wankhede Stadium, Mumbai</td>\n",
              "      <td>Kolkata Knight Riders</td>\n",
              "      <td>field</td>\n",
              "      <td>N</td>\n",
              "      <td>Kolkata Knight Riders</td>\n",
              "      <td>Wickets</td>\n",
              "      <td>6</td>\n",
              "      <td>NaN</td>\n",
              "      <td>UT Yadav</td>\n",
              "      <td>['MA Agarwal', 'S Dhawan', 'PBB Rajapaksa', 'L...</td>\n",
              "      <td>['AM Rahane', 'VR Iyer', 'SS Iyer', 'SW Billin...</td>\n",
              "      <td>AK Chaudhary</td>\n",
              "      <td>HAS Khalid</td>\n",
              "    </tr>\n",
              "    <tr>\n",
              "      <th>67</th>\n",
              "      <td>1304053</td>\n",
              "      <td>Mumbai</td>\n",
              "      <td>2022-03-31</td>\n",
              "      <td>2022</td>\n",
              "      <td>7</td>\n",
              "      <td>Chennai Super Kings</td>\n",
              "      <td>Lucknow Super Giants</td>\n",
              "      <td>Brabourne Stadium, Mumbai</td>\n",
              "      <td>Lucknow Super Giants</td>\n",
              "      <td>field</td>\n",
              "      <td>N</td>\n",
              "      <td>Lucknow Super Giants</td>\n",
              "      <td>Wickets</td>\n",
              "      <td>6</td>\n",
              "      <td>NaN</td>\n",
              "      <td>E Lewis</td>\n",
              "      <td>['RV Uthappa', 'RD Gaikwad', 'MM Ali', 'S Dube...</td>\n",
              "      <td>['KL Rahul', 'Q de Kock', 'MK Pandey', 'E Lewi...</td>\n",
              "      <td>RJ Tucker</td>\n",
              "      <td>VK Sharma</td>\n",
              "    </tr>\n",
              "    <tr>\n",
              "      <th>68</th>\n",
              "      <td>1304052</td>\n",
              "      <td>Mumbai</td>\n",
              "      <td>2022-03-30</td>\n",
              "      <td>2022</td>\n",
              "      <td>6</td>\n",
              "      <td>Kolkata Knight Riders</td>\n",
              "      <td>Royal Challengers Bangalore</td>\n",
              "      <td>Dr DY Patil Sports Academy, Mumbai</td>\n",
              "      <td>Royal Challengers Bangalore</td>\n",
              "      <td>field</td>\n",
              "      <td>N</td>\n",
              "      <td>Royal Challengers Bangalore</td>\n",
              "      <td>Wickets</td>\n",
              "      <td>3</td>\n",
              "      <td>NaN</td>\n",
              "      <td>PWH de Silva</td>\n",
              "      <td>['AM Rahane', 'VR Iyer', 'SS Iyer', 'N Rana', ...</td>\n",
              "      <td>['F du Plessis', 'Anuj Rawat', 'V Kohli', 'DJ ...</td>\n",
              "      <td>J Madanagopal</td>\n",
              "      <td>Navdeep Singh</td>\n",
              "    </tr>\n",
              "    <tr>\n",
              "      <th>69</th>\n",
              "      <td>1304051</td>\n",
              "      <td>Pune</td>\n",
              "      <td>2022-03-29</td>\n",
              "      <td>2022</td>\n",
              "      <td>5</td>\n",
              "      <td>Rajasthan Royals</td>\n",
              "      <td>Sunrisers Hyderabad</td>\n",
              "      <td>Maharashtra Cricket Association Stadium, Pune</td>\n",
              "      <td>Sunrisers Hyderabad</td>\n",
              "      <td>field</td>\n",
              "      <td>N</td>\n",
              "      <td>Rajasthan Royals</td>\n",
              "      <td>Runs</td>\n",
              "      <td>61</td>\n",
              "      <td>NaN</td>\n",
              "      <td>SV Samson</td>\n",
              "      <td>['JC Buttler', 'YBK Jaiswal', 'SV Samson', 'D ...</td>\n",
              "      <td>['KS Williamson', 'Abhishek Sharma', 'RA Tripa...</td>\n",
              "      <td>BNJ Oxenford</td>\n",
              "      <td>UV Gandhe</td>\n",
              "    </tr>\n",
              "    <tr>\n",
              "      <th>70</th>\n",
              "      <td>1304050</td>\n",
              "      <td>Mumbai</td>\n",
              "      <td>2022-03-28</td>\n",
              "      <td>2022</td>\n",
              "      <td>4</td>\n",
              "      <td>Lucknow Super Giants</td>\n",
              "      <td>Gujarat Titans</td>\n",
              "      <td>Wankhede Stadium, Mumbai</td>\n",
              "      <td>Gujarat Titans</td>\n",
              "      <td>field</td>\n",
              "      <td>N</td>\n",
              "      <td>Gujarat Titans</td>\n",
              "      <td>Wickets</td>\n",
              "      <td>5</td>\n",
              "      <td>NaN</td>\n",
              "      <td>Mohammed Shami</td>\n",
              "      <td>['KL Rahul', 'Q de Kock', 'E Lewis', 'MK Pande...</td>\n",
              "      <td>['Shubman Gill', 'MS Wade', 'V Shankar', 'HH P...</td>\n",
              "      <td>PG Pathak</td>\n",
              "      <td>VK Sharma</td>\n",
              "    </tr>\n",
              "    <tr>\n",
              "      <th>71</th>\n",
              "      <td>1304049</td>\n",
              "      <td>Mumbai</td>\n",
              "      <td>2022-03-27</td>\n",
              "      <td>2022</td>\n",
              "      <td>3</td>\n",
              "      <td>Royal Challengers Bangalore</td>\n",
              "      <td>Punjab Kings</td>\n",
              "      <td>Dr DY Patil Sports Academy, Mumbai</td>\n",
              "      <td>Punjab Kings</td>\n",
              "      <td>field</td>\n",
              "      <td>N</td>\n",
              "      <td>Punjab Kings</td>\n",
              "      <td>Wickets</td>\n",
              "      <td>5</td>\n",
              "      <td>NaN</td>\n",
              "      <td>OF Smith</td>\n",
              "      <td>['F du Plessis', 'Anuj Rawat', 'V Kohli', 'KD ...</td>\n",
              "      <td>['MA Agarwal', 'S Dhawan', 'PBB Rajapaksa', 'L...</td>\n",
              "      <td>Nitin Menon</td>\n",
              "      <td>YC Barde</td>\n",
              "    </tr>\n",
              "    <tr>\n",
              "      <th>72</th>\n",
              "      <td>1304048</td>\n",
              "      <td>Mumbai</td>\n",
              "      <td>2022-03-27</td>\n",
              "      <td>2022</td>\n",
              "      <td>2</td>\n",
              "      <td>Mumbai Indians</td>\n",
              "      <td>Delhi Capitals</td>\n",
              "      <td>Brabourne Stadium, Mumbai</td>\n",
              "      <td>Delhi Capitals</td>\n",
              "      <td>field</td>\n",
              "      <td>N</td>\n",
              "      <td>Delhi Capitals</td>\n",
              "      <td>Wickets</td>\n",
              "      <td>4</td>\n",
              "      <td>NaN</td>\n",
              "      <td>Kuldeep Yadav</td>\n",
              "      <td>['RG Sharma', 'Ishan Kishan', 'Anmolpreet Sing...</td>\n",
              "      <td>['PP Shaw', 'TL Seifert', 'Mandeep Singh', 'RR...</td>\n",
              "      <td>RJ Tucker</td>\n",
              "      <td>HAS Khalid</td>\n",
              "    </tr>\n",
              "    <tr>\n",
              "      <th>73</th>\n",
              "      <td>1304047</td>\n",
              "      <td>Mumbai</td>\n",
              "      <td>2022-03-26</td>\n",
              "      <td>2022</td>\n",
              "      <td>1</td>\n",
              "      <td>Chennai Super Kings</td>\n",
              "      <td>Kolkata Knight Riders</td>\n",
              "      <td>Wankhede Stadium, Mumbai</td>\n",
              "      <td>Kolkata Knight Riders</td>\n",
              "      <td>field</td>\n",
              "      <td>N</td>\n",
              "      <td>Kolkata Knight Riders</td>\n",
              "      <td>Wickets</td>\n",
              "      <td>6</td>\n",
              "      <td>NaN</td>\n",
              "      <td>UT Yadav</td>\n",
              "      <td>['RD Gaikwad', 'DP Conway', 'RV Uthappa', 'AT ...</td>\n",
              "      <td>['AM Rahane', 'VR Iyer', 'N Rana', 'SS Iyer', ...</td>\n",
              "      <td>AK Chaudhary</td>\n",
              "      <td>Nitin Menon</td>\n",
              "    </tr>\n",
              "  </tbody>\n",
              "</table>\n",
              "</div>\n",
              "      <button class=\"colab-df-convert\" onclick=\"convertToInteractive('df-e72f1e8f-377f-4d0d-b32f-37e79695caef')\"\n",
              "              title=\"Convert this dataframe to an interactive table.\"\n",
              "              style=\"display:none;\">\n",
              "        \n",
              "  <svg xmlns=\"http://www.w3.org/2000/svg\" height=\"24px\"viewBox=\"0 0 24 24\"\n",
              "       width=\"24px\">\n",
              "    <path d=\"M0 0h24v24H0V0z\" fill=\"none\"/>\n",
              "    <path d=\"M18.56 5.44l.94 2.06.94-2.06 2.06-.94-2.06-.94-.94-2.06-.94 2.06-2.06.94zm-11 1L8.5 8.5l.94-2.06 2.06-.94-2.06-.94L8.5 2.5l-.94 2.06-2.06.94zm10 10l.94 2.06.94-2.06 2.06-.94-2.06-.94-.94-2.06-.94 2.06-2.06.94z\"/><path d=\"M17.41 7.96l-1.37-1.37c-.4-.4-.92-.59-1.43-.59-.52 0-1.04.2-1.43.59L10.3 9.45l-7.72 7.72c-.78.78-.78 2.05 0 2.83L4 21.41c.39.39.9.59 1.41.59.51 0 1.02-.2 1.41-.59l7.78-7.78 2.81-2.81c.8-.78.8-2.07 0-2.86zM5.41 20L4 18.59l7.72-7.72 1.47 1.35L5.41 20z\"/>\n",
              "  </svg>\n",
              "      </button>\n",
              "      \n",
              "  <style>\n",
              "    .colab-df-container {\n",
              "      display:flex;\n",
              "      flex-wrap:wrap;\n",
              "      gap: 12px;\n",
              "    }\n",
              "\n",
              "    .colab-df-convert {\n",
              "      background-color: #E8F0FE;\n",
              "      border: none;\n",
              "      border-radius: 50%;\n",
              "      cursor: pointer;\n",
              "      display: none;\n",
              "      fill: #1967D2;\n",
              "      height: 32px;\n",
              "      padding: 0 0 0 0;\n",
              "      width: 32px;\n",
              "    }\n",
              "\n",
              "    .colab-df-convert:hover {\n",
              "      background-color: #E2EBFA;\n",
              "      box-shadow: 0px 1px 2px rgba(60, 64, 67, 0.3), 0px 1px 3px 1px rgba(60, 64, 67, 0.15);\n",
              "      fill: #174EA6;\n",
              "    }\n",
              "\n",
              "    [theme=dark] .colab-df-convert {\n",
              "      background-color: #3B4455;\n",
              "      fill: #D2E3FC;\n",
              "    }\n",
              "\n",
              "    [theme=dark] .colab-df-convert:hover {\n",
              "      background-color: #434B5C;\n",
              "      box-shadow: 0px 1px 3px 1px rgba(0, 0, 0, 0.15);\n",
              "      filter: drop-shadow(0px 1px 2px rgba(0, 0, 0, 0.3));\n",
              "      fill: #FFFFFF;\n",
              "    }\n",
              "  </style>\n",
              "\n",
              "      <script>\n",
              "        const buttonEl =\n",
              "          document.querySelector('#df-e72f1e8f-377f-4d0d-b32f-37e79695caef button.colab-df-convert');\n",
              "        buttonEl.style.display =\n",
              "          google.colab.kernel.accessAllowed ? 'block' : 'none';\n",
              "\n",
              "        async function convertToInteractive(key) {\n",
              "          const element = document.querySelector('#df-e72f1e8f-377f-4d0d-b32f-37e79695caef');\n",
              "          const dataTable =\n",
              "            await google.colab.kernel.invokeFunction('convertToInteractive',\n",
              "                                                     [key], {});\n",
              "          if (!dataTable) return;\n",
              "\n",
              "          const docLinkHtml = 'Like what you see? Visit the ' +\n",
              "            '<a target=\"_blank\" href=https://colab.research.google.com/notebooks/data_table.ipynb>data table notebook</a>'\n",
              "            + ' to learn more about interactive tables.';\n",
              "          element.innerHTML = '';\n",
              "          dataTable['output_type'] = 'display_data';\n",
              "          await google.colab.output.renderOutput(dataTable, element);\n",
              "          const docLink = document.createElement('div');\n",
              "          docLink.innerHTML = docLinkHtml;\n",
              "          element.appendChild(docLink);\n",
              "        }\n",
              "      </script>\n",
              "    </div>\n",
              "  </div>\n",
              "  "
            ]
          },
          "metadata": {},
          "execution_count": 74
        }
      ]
    },
    {
      "cell_type": "code",
      "source": [
        "import tensorflow as tf\n",
        "\n",
        "team_tokenizer = tf.keras.layers.TextVectorization(\n",
        "    max_tokens=12,\n",
        "    split=None\n",
        "    )\n",
        "\n",
        "team_tokenizer.adapt(ipl_data['Team1'])\n",
        "\n",
        "tokenized_team_1 = np.array(team_tokenizer(ipl_data['Team1']))\n",
        "tokenized_team_2 = np.array(team_tokenizer(ipl_data['Team2']))\n",
        "tokenized_winning_team = np.array(team_tokenizer(ipl_data['WinningTeam']))\n",
        "tokenized_team_1"
      ],
      "metadata": {
        "colab": {
          "base_uri": "https://localhost:8080/"
        },
        "id": "P-u5CZbxDiN1",
        "outputId": "ba222af5-277c-417f-a25e-d8dac159ae06"
      },
      "execution_count": null,
      "outputs": [
        {
          "output_type": "execute_result",
          "data": {
            "text/plain": [
              "array([ 2,  4,  4,  2, 11, 10,  3,  7,  6, 11, 10,  2,  3,  9,  5,  3,  2,\n",
              "        7,  9,  3,  4,  6,  5,  8, 10,  4,  7,  2,  3,  6,  2,  4,  6,  9,\n",
              "       11,  2,  5,  6,  4,  7,  2,  8,  5,  4,  2,  3,  5,  4,  6,  9,  7,\n",
              "        5,  3,  7, 10,  2,  8,  3,  5, 10,  8,  2,  6,  5,  7,  2,  5,  3,\n",
              "        9,  2,  6,  4,  8,  3])"
            ]
          },
          "metadata": {},
          "execution_count": 75
        }
      ]
    },
    {
      "cell_type": "code",
      "source": [
        "win_matrix = []\n",
        "for i in range(2, 12):\n",
        "  win_matrix_row = []\n",
        "  for j in range(2, 12):\n",
        "    if i == j:\n",
        "      win_matrix_row.append(0)\n",
        "      continue\n",
        "\n",
        "    wins = 0\n",
        "    for match in range(74):\n",
        "      if i in [tokenized_team_1[match], tokenized_team_2[match]] and j in [tokenized_team_1[match], tokenized_team_2[match]]:\n",
        "        if tokenized_winning_team[match] == i:\n",
        "          wins += 1\n",
        "    win_matrix_row.append(wins)\n",
        "  \n",
        "  win_matrix.append(win_matrix_row)\n"
      ],
      "metadata": {
        "id": "E7QfaG9XGhPh"
      },
      "execution_count": null,
      "outputs": []
    },
    {
      "cell_type": "code",
      "source": [
        "win_matrix"
      ],
      "metadata": {
        "colab": {
          "base_uri": "https://localhost:8080/"
        },
        "id": "vfL4H9GCLso9",
        "outputId": "79ab95fc-c53e-4f14-ace1-6cf91444bac6"
      },
      "execution_count": null,
      "outputs": [
        {
          "output_type": "execute_result",
          "data": {
            "text/plain": [
              "[[0, 1, 2, 1, 2, 0, 1, 1, 1, 1],\n",
              " [0, 0, 1, 0, 0, 0, 1, 0, 1, 1],\n",
              " [1, 1, 0, 0, 2, 1, 1, 1, 1, 1],\n",
              " [0, 2, 2, 0, 0, 1, 1, 0, 0, 1],\n",
              " [0, 1, 0, 1, 0, 0, 2, 2, 2, 1],\n",
              " [3, 2, 1, 1, 2, 0, 0, 1, 1, 1],\n",
              " [1, 1, 0, 0, 0, 1, 0, 0, 1, 0],\n",
              " [1, 1, 0, 1, 0, 0, 2, 0, 0, 1],\n",
              " [1, 0, 0, 2, 0, 0, 1, 2, 0, 1],\n",
              " [0, 1, 1, 1, 0, 1, 1, 1, 0, 0]]"
            ]
          },
          "metadata": {},
          "execution_count": 77
        }
      ]
    },
    {
      "cell_type": "code",
      "source": [
        "T = [1/10 for x in range(10)]\n",
        "h = 0.001"
      ],
      "metadata": {
        "id": "5gwiMlLqMVhQ"
      },
      "execution_count": null,
      "outputs": []
    },
    {
      "cell_type": "code",
      "source": [
        "T"
      ],
      "metadata": {
        "colab": {
          "base_uri": "https://localhost:8080/"
        },
        "id": "DjK0If1BoQLo",
        "outputId": "6fdb10d3-4ec3-4e5f-9170-cec6d806e071"
      },
      "execution_count": null,
      "outputs": [
        {
          "output_type": "execute_result",
          "data": {
            "text/plain": [
              "[0.1, 0.1, 0.1, 0.1, 0.1, 0.1, 0.1, 0.1, 0.1, 0.1]"
            ]
          },
          "metadata": {},
          "execution_count": 79
        }
      ]
    },
    {
      "cell_type": "code",
      "source": [
        "def compute_ipl_partial(t):\n",
        "  partial = 0\n",
        "  for i in range(10):\n",
        "    if i != t:\n",
        "      #print(T[i] + T[t], T[t], T[i])\n",
        "      partial += (T[i] / (T[i] + T[t])) * (win_matrix[t][i] / T[t] - win_matrix[i][t] / T[i])\n",
        "\n",
        "  return partial"
      ],
      "metadata": {
        "id": "gg-jWfkINByu"
      },
      "execution_count": null,
      "outputs": []
    },
    {
      "cell_type": "code",
      "source": [
        "new_T = [1/10 for x in range(10)]\n",
        "\n",
        "for iterations in range(1000):  \n",
        "  for i in range(10):\n",
        "    partial = compute_ipl_partial(i)\n",
        "    new_T[i] = (T[i] + h * partial) / sum(T)\n",
        "  T = new_T"
      ],
      "metadata": {
        "id": "u4mLvsFNMqhZ"
      },
      "execution_count": null,
      "outputs": []
    },
    {
      "cell_type": "code",
      "source": [
        "T"
      ],
      "metadata": {
        "colab": {
          "base_uri": "https://localhost:8080/"
        },
        "id": "gtr0gqHcnrXw",
        "outputId": "76bfcd60-0f9b-4d6c-83cc-094de0d1c62b"
      },
      "execution_count": null,
      "outputs": [
        {
          "output_type": "execute_result",
          "data": {
            "text/plain": [
              "[0.13690412259879356,\n",
              " 0.03534396349920394,\n",
              " 0.11870051588982689,\n",
              " 0.08551671759011081,\n",
              " 0.1327937925050077,\n",
              " 0.25298079781231897,\n",
              " 0.05478313437480579,\n",
              " 0.06412049754462854,\n",
              " 0.08323144544103425,\n",
              " 0.06415561181167224]"
            ]
          },
          "metadata": {},
          "execution_count": 82
        }
      ]
    },
    {
      "cell_type": "code",
      "source": [
        "team_tokenizer.get_vocabulary()"
      ],
      "metadata": {
        "colab": {
          "base_uri": "https://localhost:8080/"
        },
        "id": "zPuPQVulpeh6",
        "outputId": "53755c24-4e89-4372-da7a-1fbc7d00c475"
      },
      "execution_count": null,
      "outputs": [
        {
          "output_type": "execute_result",
          "data": {
            "text/plain": [
              "['',\n",
              " '[UNK]',\n",
              " 'rajasthan royals',\n",
              " 'chennai super kings',\n",
              " 'royal challengers bangalore',\n",
              " 'punjab kings',\n",
              " 'lucknow super giants',\n",
              " 'gujarat titans',\n",
              " 'mumbai indians',\n",
              " 'kolkata knight riders',\n",
              " 'delhi capitals',\n",
              " 'sunrisers hyderabad']"
            ]
          },
          "metadata": {},
          "execution_count": 83
        }
      ]
    },
    {
      "cell_type": "code",
      "source": [
        "rankings = {'Team' : team_tokenizer.get_vocabulary()[2:], 'Ranking': T}\n",
        "rankings = pd.DataFrame(data=rankings)"
      ],
      "metadata": {
        "id": "_EHZR-Qtq8oB"
      },
      "execution_count": null,
      "outputs": []
    },
    {
      "cell_type": "code",
      "source": [
        "rankings.head(10)"
      ],
      "metadata": {
        "colab": {
          "base_uri": "https://localhost:8080/",
          "height": 363
        },
        "id": "E-_2zEb_r7ht",
        "outputId": "438b5661-72be-4ec0-9c86-5adae92651d6"
      },
      "execution_count": null,
      "outputs": [
        {
          "output_type": "execute_result",
          "data": {
            "text/plain": [
              "                          Team   Ranking\n",
              "0             rajasthan royals  0.136904\n",
              "1          chennai super kings  0.035344\n",
              "2  royal challengers bangalore  0.118701\n",
              "3                 punjab kings  0.085517\n",
              "4         lucknow super giants  0.132794\n",
              "5               gujarat titans  0.252981\n",
              "6               mumbai indians  0.054783\n",
              "7        kolkata knight riders  0.064120\n",
              "8               delhi capitals  0.083231\n",
              "9          sunrisers hyderabad  0.064156"
            ],
            "text/html": [
              "\n",
              "  <div id=\"df-6e9d9a87-36a0-43e7-985d-cb63f5ef6776\">\n",
              "    <div class=\"colab-df-container\">\n",
              "      <div>\n",
              "<style scoped>\n",
              "    .dataframe tbody tr th:only-of-type {\n",
              "        vertical-align: middle;\n",
              "    }\n",
              "\n",
              "    .dataframe tbody tr th {\n",
              "        vertical-align: top;\n",
              "    }\n",
              "\n",
              "    .dataframe thead th {\n",
              "        text-align: right;\n",
              "    }\n",
              "</style>\n",
              "<table border=\"1\" class=\"dataframe\">\n",
              "  <thead>\n",
              "    <tr style=\"text-align: right;\">\n",
              "      <th></th>\n",
              "      <th>Team</th>\n",
              "      <th>Ranking</th>\n",
              "    </tr>\n",
              "  </thead>\n",
              "  <tbody>\n",
              "    <tr>\n",
              "      <th>0</th>\n",
              "      <td>rajasthan royals</td>\n",
              "      <td>0.136904</td>\n",
              "    </tr>\n",
              "    <tr>\n",
              "      <th>1</th>\n",
              "      <td>chennai super kings</td>\n",
              "      <td>0.035344</td>\n",
              "    </tr>\n",
              "    <tr>\n",
              "      <th>2</th>\n",
              "      <td>royal challengers bangalore</td>\n",
              "      <td>0.118701</td>\n",
              "    </tr>\n",
              "    <tr>\n",
              "      <th>3</th>\n",
              "      <td>punjab kings</td>\n",
              "      <td>0.085517</td>\n",
              "    </tr>\n",
              "    <tr>\n",
              "      <th>4</th>\n",
              "      <td>lucknow super giants</td>\n",
              "      <td>0.132794</td>\n",
              "    </tr>\n",
              "    <tr>\n",
              "      <th>5</th>\n",
              "      <td>gujarat titans</td>\n",
              "      <td>0.252981</td>\n",
              "    </tr>\n",
              "    <tr>\n",
              "      <th>6</th>\n",
              "      <td>mumbai indians</td>\n",
              "      <td>0.054783</td>\n",
              "    </tr>\n",
              "    <tr>\n",
              "      <th>7</th>\n",
              "      <td>kolkata knight riders</td>\n",
              "      <td>0.064120</td>\n",
              "    </tr>\n",
              "    <tr>\n",
              "      <th>8</th>\n",
              "      <td>delhi capitals</td>\n",
              "      <td>0.083231</td>\n",
              "    </tr>\n",
              "    <tr>\n",
              "      <th>9</th>\n",
              "      <td>sunrisers hyderabad</td>\n",
              "      <td>0.064156</td>\n",
              "    </tr>\n",
              "  </tbody>\n",
              "</table>\n",
              "</div>\n",
              "      <button class=\"colab-df-convert\" onclick=\"convertToInteractive('df-6e9d9a87-36a0-43e7-985d-cb63f5ef6776')\"\n",
              "              title=\"Convert this dataframe to an interactive table.\"\n",
              "              style=\"display:none;\">\n",
              "        \n",
              "  <svg xmlns=\"http://www.w3.org/2000/svg\" height=\"24px\"viewBox=\"0 0 24 24\"\n",
              "       width=\"24px\">\n",
              "    <path d=\"M0 0h24v24H0V0z\" fill=\"none\"/>\n",
              "    <path d=\"M18.56 5.44l.94 2.06.94-2.06 2.06-.94-2.06-.94-.94-2.06-.94 2.06-2.06.94zm-11 1L8.5 8.5l.94-2.06 2.06-.94-2.06-.94L8.5 2.5l-.94 2.06-2.06.94zm10 10l.94 2.06.94-2.06 2.06-.94-2.06-.94-.94-2.06-.94 2.06-2.06.94z\"/><path d=\"M17.41 7.96l-1.37-1.37c-.4-.4-.92-.59-1.43-.59-.52 0-1.04.2-1.43.59L10.3 9.45l-7.72 7.72c-.78.78-.78 2.05 0 2.83L4 21.41c.39.39.9.59 1.41.59.51 0 1.02-.2 1.41-.59l7.78-7.78 2.81-2.81c.8-.78.8-2.07 0-2.86zM5.41 20L4 18.59l7.72-7.72 1.47 1.35L5.41 20z\"/>\n",
              "  </svg>\n",
              "      </button>\n",
              "      \n",
              "  <style>\n",
              "    .colab-df-container {\n",
              "      display:flex;\n",
              "      flex-wrap:wrap;\n",
              "      gap: 12px;\n",
              "    }\n",
              "\n",
              "    .colab-df-convert {\n",
              "      background-color: #E8F0FE;\n",
              "      border: none;\n",
              "      border-radius: 50%;\n",
              "      cursor: pointer;\n",
              "      display: none;\n",
              "      fill: #1967D2;\n",
              "      height: 32px;\n",
              "      padding: 0 0 0 0;\n",
              "      width: 32px;\n",
              "    }\n",
              "\n",
              "    .colab-df-convert:hover {\n",
              "      background-color: #E2EBFA;\n",
              "      box-shadow: 0px 1px 2px rgba(60, 64, 67, 0.3), 0px 1px 3px 1px rgba(60, 64, 67, 0.15);\n",
              "      fill: #174EA6;\n",
              "    }\n",
              "\n",
              "    [theme=dark] .colab-df-convert {\n",
              "      background-color: #3B4455;\n",
              "      fill: #D2E3FC;\n",
              "    }\n",
              "\n",
              "    [theme=dark] .colab-df-convert:hover {\n",
              "      background-color: #434B5C;\n",
              "      box-shadow: 0px 1px 3px 1px rgba(0, 0, 0, 0.15);\n",
              "      filter: drop-shadow(0px 1px 2px rgba(0, 0, 0, 0.3));\n",
              "      fill: #FFFFFF;\n",
              "    }\n",
              "  </style>\n",
              "\n",
              "      <script>\n",
              "        const buttonEl =\n",
              "          document.querySelector('#df-6e9d9a87-36a0-43e7-985d-cb63f5ef6776 button.colab-df-convert');\n",
              "        buttonEl.style.display =\n",
              "          google.colab.kernel.accessAllowed ? 'block' : 'none';\n",
              "\n",
              "        async function convertToInteractive(key) {\n",
              "          const element = document.querySelector('#df-6e9d9a87-36a0-43e7-985d-cb63f5ef6776');\n",
              "          const dataTable =\n",
              "            await google.colab.kernel.invokeFunction('convertToInteractive',\n",
              "                                                     [key], {});\n",
              "          if (!dataTable) return;\n",
              "\n",
              "          const docLinkHtml = 'Like what you see? Visit the ' +\n",
              "            '<a target=\"_blank\" href=https://colab.research.google.com/notebooks/data_table.ipynb>data table notebook</a>'\n",
              "            + ' to learn more about interactive tables.';\n",
              "          element.innerHTML = '';\n",
              "          dataTable['output_type'] = 'display_data';\n",
              "          await google.colab.output.renderOutput(dataTable, element);\n",
              "          const docLink = document.createElement('div');\n",
              "          docLink.innerHTML = docLinkHtml;\n",
              "          element.appendChild(docLink);\n",
              "        }\n",
              "      </script>\n",
              "    </div>\n",
              "  </div>\n",
              "  "
            ]
          },
          "metadata": {},
          "execution_count": 85
        }
      ]
    },
    {
      "cell_type": "code",
      "source": [
        "rankings.sort_values('Ranking', ascending=False)\n",
        "# For finding one team's winning chance against another, where a is team a's t value, and b is team b's value, do a / (a + b)"
      ],
      "metadata": {
        "colab": {
          "base_uri": "https://localhost:8080/",
          "height": 363
        },
        "id": "pcpStouis256",
        "outputId": "cb3f90de-edef-4738-9490-2135b5be1307"
      },
      "execution_count": null,
      "outputs": [
        {
          "output_type": "execute_result",
          "data": {
            "text/plain": [
              "                          Team   Ranking\n",
              "5               gujarat titans  0.252981\n",
              "0             rajasthan royals  0.136904\n",
              "4         lucknow super giants  0.132794\n",
              "2  royal challengers bangalore  0.118701\n",
              "3                 punjab kings  0.085517\n",
              "8               delhi capitals  0.083231\n",
              "9          sunrisers hyderabad  0.064156\n",
              "7        kolkata knight riders  0.064120\n",
              "6               mumbai indians  0.054783\n",
              "1          chennai super kings  0.035344"
            ],
            "text/html": [
              "\n",
              "  <div id=\"df-dd1bb2de-a45c-4af9-995d-4d08ca7d0a2e\">\n",
              "    <div class=\"colab-df-container\">\n",
              "      <div>\n",
              "<style scoped>\n",
              "    .dataframe tbody tr th:only-of-type {\n",
              "        vertical-align: middle;\n",
              "    }\n",
              "\n",
              "    .dataframe tbody tr th {\n",
              "        vertical-align: top;\n",
              "    }\n",
              "\n",
              "    .dataframe thead th {\n",
              "        text-align: right;\n",
              "    }\n",
              "</style>\n",
              "<table border=\"1\" class=\"dataframe\">\n",
              "  <thead>\n",
              "    <tr style=\"text-align: right;\">\n",
              "      <th></th>\n",
              "      <th>Team</th>\n",
              "      <th>Ranking</th>\n",
              "    </tr>\n",
              "  </thead>\n",
              "  <tbody>\n",
              "    <tr>\n",
              "      <th>5</th>\n",
              "      <td>gujarat titans</td>\n",
              "      <td>0.252981</td>\n",
              "    </tr>\n",
              "    <tr>\n",
              "      <th>0</th>\n",
              "      <td>rajasthan royals</td>\n",
              "      <td>0.136904</td>\n",
              "    </tr>\n",
              "    <tr>\n",
              "      <th>4</th>\n",
              "      <td>lucknow super giants</td>\n",
              "      <td>0.132794</td>\n",
              "    </tr>\n",
              "    <tr>\n",
              "      <th>2</th>\n",
              "      <td>royal challengers bangalore</td>\n",
              "      <td>0.118701</td>\n",
              "    </tr>\n",
              "    <tr>\n",
              "      <th>3</th>\n",
              "      <td>punjab kings</td>\n",
              "      <td>0.085517</td>\n",
              "    </tr>\n",
              "    <tr>\n",
              "      <th>8</th>\n",
              "      <td>delhi capitals</td>\n",
              "      <td>0.083231</td>\n",
              "    </tr>\n",
              "    <tr>\n",
              "      <th>9</th>\n",
              "      <td>sunrisers hyderabad</td>\n",
              "      <td>0.064156</td>\n",
              "    </tr>\n",
              "    <tr>\n",
              "      <th>7</th>\n",
              "      <td>kolkata knight riders</td>\n",
              "      <td>0.064120</td>\n",
              "    </tr>\n",
              "    <tr>\n",
              "      <th>6</th>\n",
              "      <td>mumbai indians</td>\n",
              "      <td>0.054783</td>\n",
              "    </tr>\n",
              "    <tr>\n",
              "      <th>1</th>\n",
              "      <td>chennai super kings</td>\n",
              "      <td>0.035344</td>\n",
              "    </tr>\n",
              "  </tbody>\n",
              "</table>\n",
              "</div>\n",
              "      <button class=\"colab-df-convert\" onclick=\"convertToInteractive('df-dd1bb2de-a45c-4af9-995d-4d08ca7d0a2e')\"\n",
              "              title=\"Convert this dataframe to an interactive table.\"\n",
              "              style=\"display:none;\">\n",
              "        \n",
              "  <svg xmlns=\"http://www.w3.org/2000/svg\" height=\"24px\"viewBox=\"0 0 24 24\"\n",
              "       width=\"24px\">\n",
              "    <path d=\"M0 0h24v24H0V0z\" fill=\"none\"/>\n",
              "    <path d=\"M18.56 5.44l.94 2.06.94-2.06 2.06-.94-2.06-.94-.94-2.06-.94 2.06-2.06.94zm-11 1L8.5 8.5l.94-2.06 2.06-.94-2.06-.94L8.5 2.5l-.94 2.06-2.06.94zm10 10l.94 2.06.94-2.06 2.06-.94-2.06-.94-.94-2.06-.94 2.06-2.06.94z\"/><path d=\"M17.41 7.96l-1.37-1.37c-.4-.4-.92-.59-1.43-.59-.52 0-1.04.2-1.43.59L10.3 9.45l-7.72 7.72c-.78.78-.78 2.05 0 2.83L4 21.41c.39.39.9.59 1.41.59.51 0 1.02-.2 1.41-.59l7.78-7.78 2.81-2.81c.8-.78.8-2.07 0-2.86zM5.41 20L4 18.59l7.72-7.72 1.47 1.35L5.41 20z\"/>\n",
              "  </svg>\n",
              "      </button>\n",
              "      \n",
              "  <style>\n",
              "    .colab-df-container {\n",
              "      display:flex;\n",
              "      flex-wrap:wrap;\n",
              "      gap: 12px;\n",
              "    }\n",
              "\n",
              "    .colab-df-convert {\n",
              "      background-color: #E8F0FE;\n",
              "      border: none;\n",
              "      border-radius: 50%;\n",
              "      cursor: pointer;\n",
              "      display: none;\n",
              "      fill: #1967D2;\n",
              "      height: 32px;\n",
              "      padding: 0 0 0 0;\n",
              "      width: 32px;\n",
              "    }\n",
              "\n",
              "    .colab-df-convert:hover {\n",
              "      background-color: #E2EBFA;\n",
              "      box-shadow: 0px 1px 2px rgba(60, 64, 67, 0.3), 0px 1px 3px 1px rgba(60, 64, 67, 0.15);\n",
              "      fill: #174EA6;\n",
              "    }\n",
              "\n",
              "    [theme=dark] .colab-df-convert {\n",
              "      background-color: #3B4455;\n",
              "      fill: #D2E3FC;\n",
              "    }\n",
              "\n",
              "    [theme=dark] .colab-df-convert:hover {\n",
              "      background-color: #434B5C;\n",
              "      box-shadow: 0px 1px 3px 1px rgba(0, 0, 0, 0.15);\n",
              "      filter: drop-shadow(0px 1px 2px rgba(0, 0, 0, 0.3));\n",
              "      fill: #FFFFFF;\n",
              "    }\n",
              "  </style>\n",
              "\n",
              "      <script>\n",
              "        const buttonEl =\n",
              "          document.querySelector('#df-dd1bb2de-a45c-4af9-995d-4d08ca7d0a2e button.colab-df-convert');\n",
              "        buttonEl.style.display =\n",
              "          google.colab.kernel.accessAllowed ? 'block' : 'none';\n",
              "\n",
              "        async function convertToInteractive(key) {\n",
              "          const element = document.querySelector('#df-dd1bb2de-a45c-4af9-995d-4d08ca7d0a2e');\n",
              "          const dataTable =\n",
              "            await google.colab.kernel.invokeFunction('convertToInteractive',\n",
              "                                                     [key], {});\n",
              "          if (!dataTable) return;\n",
              "\n",
              "          const docLinkHtml = 'Like what you see? Visit the ' +\n",
              "            '<a target=\"_blank\" href=https://colab.research.google.com/notebooks/data_table.ipynb>data table notebook</a>'\n",
              "            + ' to learn more about interactive tables.';\n",
              "          element.innerHTML = '';\n",
              "          dataTable['output_type'] = 'display_data';\n",
              "          await google.colab.output.renderOutput(dataTable, element);\n",
              "          const docLink = document.createElement('div');\n",
              "          docLink.innerHTML = docLinkHtml;\n",
              "          element.appendChild(docLink);\n",
              "        }\n",
              "      </script>\n",
              "    </div>\n",
              "  </div>\n",
              "  "
            ]
          },
          "metadata": {},
          "execution_count": 86
        }
      ]
    },
    {
      "cell_type": "markdown",
      "source": [
        "# **Markov IPL Rankings**"
      ],
      "metadata": {
        "id": "U6B3L8Pl4H5m"
      }
    },
    {
      "cell_type": "code",
      "source": [
        "transition_matrix = np.zeros((10, 10))\n",
        "transition_matrix"
      ],
      "metadata": {
        "colab": {
          "base_uri": "https://localhost:8080/"
        },
        "id": "ONjVHLe-CrOc",
        "outputId": "7ff8af7d-14a1-414e-eb3d-1dbbd6347aa2"
      },
      "execution_count": null,
      "outputs": [
        {
          "output_type": "execute_result",
          "data": {
            "text/plain": [
              "array([[0., 0., 0., 0., 0., 0., 0., 0., 0., 0.],\n",
              "       [0., 0., 0., 0., 0., 0., 0., 0., 0., 0.],\n",
              "       [0., 0., 0., 0., 0., 0., 0., 0., 0., 0.],\n",
              "       [0., 0., 0., 0., 0., 0., 0., 0., 0., 0.],\n",
              "       [0., 0., 0., 0., 0., 0., 0., 0., 0., 0.],\n",
              "       [0., 0., 0., 0., 0., 0., 0., 0., 0., 0.],\n",
              "       [0., 0., 0., 0., 0., 0., 0., 0., 0., 0.],\n",
              "       [0., 0., 0., 0., 0., 0., 0., 0., 0., 0.],\n",
              "       [0., 0., 0., 0., 0., 0., 0., 0., 0., 0.],\n",
              "       [0., 0., 0., 0., 0., 0., 0., 0., 0., 0.]])"
            ]
          },
          "metadata": {},
          "execution_count": 87
        }
      ]
    },
    {
      "cell_type": "code",
      "source": [
        "p = 0.85"
      ],
      "metadata": {
        "id": "FVo6hYb8wiTT"
      },
      "execution_count": null,
      "outputs": []
    },
    {
      "cell_type": "code",
      "source": [
        "rankings = np.array([1/10 for x in range(10)])"
      ],
      "metadata": {
        "id": "nOgNxF4Q43fc"
      },
      "execution_count": null,
      "outputs": []
    },
    {
      "cell_type": "code",
      "source": [
        "def get_transition_matrix_value(team_b, team_a):\n",
        "\n",
        "  if team_a == team_b: # Will deal with this case later\n",
        "    return 0\n",
        "\n",
        "  num_games_played = 0 # g_i\n",
        "  team_a = team_a + 2\n",
        "  team_b = team_b + 2 # For the integer encoding starting at 2\n",
        "  for x in range(len(tokenized_winning_team)):\n",
        "    if tokenized_team_1[x] == team_b or tokenized_team_2[x] == team_b:\n",
        "      num_games_played += 1\n",
        "  \n",
        "  num_games_b_beat_a = 0 # w_i_j\n",
        "  for x in range(len(tokenized_winning_team)):\n",
        "    if team_a in [tokenized_team_1[x], tokenized_team_2[x]] and team_b in [tokenized_team_1[x], tokenized_team_2[x]]:\n",
        "      if team_b == tokenized_winning_team[x]:\n",
        "        num_games_b_beat_a += 1\n",
        "  return (num_games_b_beat_a / num_games_played) * (1 - p)"
      ],
      "metadata": {
        "id": "eS0htDGJ6wf0"
      },
      "execution_count": null,
      "outputs": []
    },
    {
      "cell_type": "code",
      "source": [
        "for team_a in range(10):\n",
        "  for team_b in range(10):\n",
        "    transition_matrix[team_a][team_b] = get_transition_matrix_value(team_a, team_b)\n",
        "\n",
        "for same_team in range(10):\n",
        "  transition_matrix_value = 1 - np.sum(transition_matrix, axis=0)[same_team]\n",
        "  transition_matrix[same_team][same_team] = transition_matrix_value + np.sum(transition_matrix, axis=0)[same_team] * p"
      ],
      "metadata": {
        "id": "i_oMunzE4kWo"
      },
      "execution_count": null,
      "outputs": []
    },
    {
      "cell_type": "code",
      "source": [
        "transition_matrix"
      ],
      "metadata": {
        "colab": {
          "base_uri": "https://localhost:8080/"
        },
        "id": "elOHfN_x7Cg4",
        "outputId": "54969921-c29a-438a-eaa2-17a4e5d4ae1d"
      },
      "execution_count": null,
      "outputs": [
        {
          "output_type": "execute_result",
          "data": {
            "text/plain": [
              "array([[0.98955357, 0.00882353, 0.01764706, 0.00882353, 0.01764706,\n",
              "        0.        , 0.00882353, 0.00882353, 0.00882353, 0.00882353],\n",
              "       [0.        , 0.98492201, 0.01071429, 0.        , 0.        ,\n",
              "        0.        , 0.01071429, 0.        , 0.01071429, 0.01071429],\n",
              "       [0.009375  , 0.009375  , 0.98951812, 0.        , 0.01875   ,\n",
              "        0.009375  , 0.009375  , 0.009375  , 0.009375  , 0.009375  ],\n",
              "       [0.        , 0.02142857, 0.02142857, 0.98934165, 0.        ,\n",
              "        0.01071429, 0.01071429, 0.        , 0.        , 0.01071429],\n",
              "       [0.        , 0.01      , 0.        , 0.01      , 0.99172794,\n",
              "        0.        , 0.02      , 0.02      , 0.02      , 0.01      ],\n",
              "       [0.028125  , 0.01875   , 0.009375  , 0.009375  , 0.01875   ,\n",
              "        0.99377232, 0.        , 0.009375  , 0.009375  , 0.009375  ],\n",
              "       [0.01071429, 0.01071429, 0.        , 0.        , 0.        ,\n",
              "        0.01071429, 0.98462736, 0.        , 0.01071429, 0.        ],\n",
              "       [0.01071429, 0.01071429, 0.        , 0.01071429, 0.        ,\n",
              "        0.        , 0.02142857, 0.98804254, 0.        , 0.01071429],\n",
              "       [0.01071429, 0.        , 0.        , 0.02142857, 0.        ,\n",
              "        0.        , 0.01071429, 0.02142857, 0.98964968, 0.01071429],\n",
              "       [0.        , 0.01071429, 0.01071429, 0.01071429, 0.        ,\n",
              "        0.01071429, 0.01071429, 0.01071429, 0.        , 0.9879354 ]])"
            ]
          },
          "metadata": {},
          "execution_count": 92
        }
      ]
    },
    {
      "cell_type": "code",
      "source": [
        "for x in range(10):\n",
        "  print(np.sum(transition_matrix, axis=0)[x])"
      ],
      "metadata": {
        "colab": {
          "base_uri": "https://localhost:8080/"
        },
        "id": "-aX7jzzjU_7I",
        "outputId": "5c522d05-9c62-4fd1-a7e4-8f34fd02ada7"
      },
      "execution_count": null,
      "outputs": [
        {
          "output_type": "stream",
          "name": "stdout",
          "text": [
            "1.0591964285714286\n",
            "1.085441964285714\n",
            "1.0593973214285712\n",
            "1.0603973214285711\n",
            "1.046875\n",
            "1.0352901785714286\n",
            "1.087111607142857\n",
            "1.0677589285714284\n",
            "1.0586517857142859\n",
            "1.0683660714285714\n"
          ]
        }
      ]
    },
    {
      "cell_type": "code",
      "source": [
        "converged_transition_matrix = np.linalg.matrix_power(transition_matrix, 50)\n",
        "rankings = np.matmul(converged_transition_matrix, rankings)"
      ],
      "metadata": {
        "id": "89e1p03F4wXh"
      },
      "execution_count": null,
      "outputs": []
    },
    {
      "cell_type": "code",
      "source": [
        "converged_transition_matrix"
      ],
      "metadata": {
        "colab": {
          "base_uri": "https://localhost:8080/"
        },
        "id": "AIbItUoLVLyg",
        "outputId": "68588497-521f-479e-c548-4a56b398317c"
      },
      "execution_count": null,
      "outputs": [
        {
          "output_type": "execute_result",
          "data": {
            "text/plain": [
              "array([[2.28148508, 2.65792973, 2.20077485, 2.02230555, 1.75249709,\n",
              "        1.32598805, 2.9027129 , 2.22407265, 2.11564939, 2.29210506],\n",
              "       [0.83724041, 1.54431631, 1.03202075, 0.84204006, 0.60691224,\n",
              "        0.65143407, 1.35155629, 0.92039199, 1.04452989, 1.13261838],\n",
              "       [1.99822432, 2.64010296, 2.34892101, 1.90024681, 1.78565111,\n",
              "        1.46393673, 2.87353203, 2.26835386, 2.14056758, 2.28550897],\n",
              "       [1.58054876, 2.55143329, 2.11667681, 1.96158358, 1.33094346,\n",
              "        1.44864552, 2.33755937, 1.61859131, 1.6629087 , 2.00856899],\n",
              "       [1.65597019, 2.49484275, 1.66842766, 1.97420819, 1.60843711,\n",
              "        1.24226055, 2.86992193, 2.16347045, 2.04831538, 2.11385625],\n",
              "       [3.00730831, 3.82494978, 2.92667611, 2.80058076, 2.4685243 ,\n",
              "        2.39555555, 3.74571383, 3.0404625 , 2.8864082 , 3.18032302],\n",
              "       [1.22833048, 1.46447058, 1.03483118, 1.01612397, 0.80098436,\n",
              "        0.85861228, 1.76990099, 1.07293227, 1.22544257, 1.11945991],\n",
              "       [1.33990906, 1.83533077, 1.29787582, 1.28222819, 0.83827234,\n",
              "        0.92008729, 2.01325003, 1.62196274, 1.1794255 , 1.49408115],\n",
              "       [1.66633762, 2.17481869, 1.70349503, 1.93588291, 1.03955381,\n",
              "        1.17083532, 2.38359292, 1.89091517, 1.9257104 , 1.93547089],\n",
              "       [1.39854014, 2.10822584, 1.66546316, 1.46310633, 1.08436402,\n",
              "        1.27395225, 2.065508  , 1.55295894, 1.36046879, 2.0583539 ]])"
            ]
          },
          "metadata": {},
          "execution_count": 95
        }
      ]
    },
    {
      "cell_type": "code",
      "source": [
        "rankings"
      ],
      "metadata": {
        "colab": {
          "base_uri": "https://localhost:8080/"
        },
        "id": "oNuzNRbe-Hu4",
        "outputId": "d606d33a-828d-4f43-c095-1f001c498afe"
      },
      "execution_count": null,
      "outputs": [
        {
          "output_type": "execute_result",
          "data": {
            "text/plain": [
              "array([2.17755204, 0.99630604, 2.17050454, 1.86174598, 1.98397105,\n",
              "       3.02765024, 1.15910886, 1.38224229, 1.78266128, 1.60309414])"
            ]
          },
          "metadata": {},
          "execution_count": 96
        }
      ]
    },
    {
      "cell_type": "code",
      "source": [
        "rankings = {'Team' : team_tokenizer.get_vocabulary()[2:], 'Ranking': rankings}\n",
        "rankings = pd.DataFrame(data=rankings)"
      ],
      "metadata": {
        "id": "pP4HC3ssAU2l"
      },
      "execution_count": null,
      "outputs": []
    },
    {
      "cell_type": "code",
      "source": [
        "rankings.sort_values('Ranking', ascending=False)"
      ],
      "metadata": {
        "colab": {
          "base_uri": "https://localhost:8080/",
          "height": 363
        },
        "id": "gHH_Sp1BAmu0",
        "outputId": "b9444935-072a-463a-a669-a9c43be2e5a4"
      },
      "execution_count": null,
      "outputs": [
        {
          "output_type": "execute_result",
          "data": {
            "text/plain": [
              "                          Team   Ranking\n",
              "5               gujarat titans  3.027650\n",
              "0             rajasthan royals  2.177552\n",
              "2  royal challengers bangalore  2.170505\n",
              "4         lucknow super giants  1.983971\n",
              "3                 punjab kings  1.861746\n",
              "8               delhi capitals  1.782661\n",
              "9          sunrisers hyderabad  1.603094\n",
              "7        kolkata knight riders  1.382242\n",
              "6               mumbai indians  1.159109\n",
              "1          chennai super kings  0.996306"
            ],
            "text/html": [
              "\n",
              "  <div id=\"df-2db14854-3785-4eee-9dcd-5ca9a53dc895\">\n",
              "    <div class=\"colab-df-container\">\n",
              "      <div>\n",
              "<style scoped>\n",
              "    .dataframe tbody tr th:only-of-type {\n",
              "        vertical-align: middle;\n",
              "    }\n",
              "\n",
              "    .dataframe tbody tr th {\n",
              "        vertical-align: top;\n",
              "    }\n",
              "\n",
              "    .dataframe thead th {\n",
              "        text-align: right;\n",
              "    }\n",
              "</style>\n",
              "<table border=\"1\" class=\"dataframe\">\n",
              "  <thead>\n",
              "    <tr style=\"text-align: right;\">\n",
              "      <th></th>\n",
              "      <th>Team</th>\n",
              "      <th>Ranking</th>\n",
              "    </tr>\n",
              "  </thead>\n",
              "  <tbody>\n",
              "    <tr>\n",
              "      <th>5</th>\n",
              "      <td>gujarat titans</td>\n",
              "      <td>3.027650</td>\n",
              "    </tr>\n",
              "    <tr>\n",
              "      <th>0</th>\n",
              "      <td>rajasthan royals</td>\n",
              "      <td>2.177552</td>\n",
              "    </tr>\n",
              "    <tr>\n",
              "      <th>2</th>\n",
              "      <td>royal challengers bangalore</td>\n",
              "      <td>2.170505</td>\n",
              "    </tr>\n",
              "    <tr>\n",
              "      <th>4</th>\n",
              "      <td>lucknow super giants</td>\n",
              "      <td>1.983971</td>\n",
              "    </tr>\n",
              "    <tr>\n",
              "      <th>3</th>\n",
              "      <td>punjab kings</td>\n",
              "      <td>1.861746</td>\n",
              "    </tr>\n",
              "    <tr>\n",
              "      <th>8</th>\n",
              "      <td>delhi capitals</td>\n",
              "      <td>1.782661</td>\n",
              "    </tr>\n",
              "    <tr>\n",
              "      <th>9</th>\n",
              "      <td>sunrisers hyderabad</td>\n",
              "      <td>1.603094</td>\n",
              "    </tr>\n",
              "    <tr>\n",
              "      <th>7</th>\n",
              "      <td>kolkata knight riders</td>\n",
              "      <td>1.382242</td>\n",
              "    </tr>\n",
              "    <tr>\n",
              "      <th>6</th>\n",
              "      <td>mumbai indians</td>\n",
              "      <td>1.159109</td>\n",
              "    </tr>\n",
              "    <tr>\n",
              "      <th>1</th>\n",
              "      <td>chennai super kings</td>\n",
              "      <td>0.996306</td>\n",
              "    </tr>\n",
              "  </tbody>\n",
              "</table>\n",
              "</div>\n",
              "      <button class=\"colab-df-convert\" onclick=\"convertToInteractive('df-2db14854-3785-4eee-9dcd-5ca9a53dc895')\"\n",
              "              title=\"Convert this dataframe to an interactive table.\"\n",
              "              style=\"display:none;\">\n",
              "        \n",
              "  <svg xmlns=\"http://www.w3.org/2000/svg\" height=\"24px\"viewBox=\"0 0 24 24\"\n",
              "       width=\"24px\">\n",
              "    <path d=\"M0 0h24v24H0V0z\" fill=\"none\"/>\n",
              "    <path d=\"M18.56 5.44l.94 2.06.94-2.06 2.06-.94-2.06-.94-.94-2.06-.94 2.06-2.06.94zm-11 1L8.5 8.5l.94-2.06 2.06-.94-2.06-.94L8.5 2.5l-.94 2.06-2.06.94zm10 10l.94 2.06.94-2.06 2.06-.94-2.06-.94-.94-2.06-.94 2.06-2.06.94z\"/><path d=\"M17.41 7.96l-1.37-1.37c-.4-.4-.92-.59-1.43-.59-.52 0-1.04.2-1.43.59L10.3 9.45l-7.72 7.72c-.78.78-.78 2.05 0 2.83L4 21.41c.39.39.9.59 1.41.59.51 0 1.02-.2 1.41-.59l7.78-7.78 2.81-2.81c.8-.78.8-2.07 0-2.86zM5.41 20L4 18.59l7.72-7.72 1.47 1.35L5.41 20z\"/>\n",
              "  </svg>\n",
              "      </button>\n",
              "      \n",
              "  <style>\n",
              "    .colab-df-container {\n",
              "      display:flex;\n",
              "      flex-wrap:wrap;\n",
              "      gap: 12px;\n",
              "    }\n",
              "\n",
              "    .colab-df-convert {\n",
              "      background-color: #E8F0FE;\n",
              "      border: none;\n",
              "      border-radius: 50%;\n",
              "      cursor: pointer;\n",
              "      display: none;\n",
              "      fill: #1967D2;\n",
              "      height: 32px;\n",
              "      padding: 0 0 0 0;\n",
              "      width: 32px;\n",
              "    }\n",
              "\n",
              "    .colab-df-convert:hover {\n",
              "      background-color: #E2EBFA;\n",
              "      box-shadow: 0px 1px 2px rgba(60, 64, 67, 0.3), 0px 1px 3px 1px rgba(60, 64, 67, 0.15);\n",
              "      fill: #174EA6;\n",
              "    }\n",
              "\n",
              "    [theme=dark] .colab-df-convert {\n",
              "      background-color: #3B4455;\n",
              "      fill: #D2E3FC;\n",
              "    }\n",
              "\n",
              "    [theme=dark] .colab-df-convert:hover {\n",
              "      background-color: #434B5C;\n",
              "      box-shadow: 0px 1px 3px 1px rgba(0, 0, 0, 0.15);\n",
              "      filter: drop-shadow(0px 1px 2px rgba(0, 0, 0, 0.3));\n",
              "      fill: #FFFFFF;\n",
              "    }\n",
              "  </style>\n",
              "\n",
              "      <script>\n",
              "        const buttonEl =\n",
              "          document.querySelector('#df-2db14854-3785-4eee-9dcd-5ca9a53dc895 button.colab-df-convert');\n",
              "        buttonEl.style.display =\n",
              "          google.colab.kernel.accessAllowed ? 'block' : 'none';\n",
              "\n",
              "        async function convertToInteractive(key) {\n",
              "          const element = document.querySelector('#df-2db14854-3785-4eee-9dcd-5ca9a53dc895');\n",
              "          const dataTable =\n",
              "            await google.colab.kernel.invokeFunction('convertToInteractive',\n",
              "                                                     [key], {});\n",
              "          if (!dataTable) return;\n",
              "\n",
              "          const docLinkHtml = 'Like what you see? Visit the ' +\n",
              "            '<a target=\"_blank\" href=https://colab.research.google.com/notebooks/data_table.ipynb>data table notebook</a>'\n",
              "            + ' to learn more about interactive tables.';\n",
              "          element.innerHTML = '';\n",
              "          dataTable['output_type'] = 'display_data';\n",
              "          await google.colab.output.renderOutput(dataTable, element);\n",
              "          const docLink = document.createElement('div');\n",
              "          docLink.innerHTML = docLinkHtml;\n",
              "          element.appendChild(docLink);\n",
              "        }\n",
              "      </script>\n",
              "    </div>\n",
              "  </div>\n",
              "  "
            ]
          },
          "metadata": {},
          "execution_count": 98
        }
      ]
    },
    {
      "cell_type": "markdown",
      "source": [
        "# **Data Source:**\n",
        "\n",
        "https://www.kaggle.com/datasets/vora1011/ipl-2022-match-dataset?select=IPL_Matches_2022.csv"
      ],
      "metadata": {
        "id": "LleMqjb44CSc"
      }
    },
    {
      "cell_type": "markdown",
      "source": [
        "# **NCAA D1 Basketball 2022 Rankings**"
      ],
      "metadata": {
        "id": "HTCEmCgJ9p8s"
      }
    },
    {
      "cell_type": "code",
      "source": [
        "ncaa_data = pd.read_csv('/content/drive/MyDrive/SportsRankingsData/scores.csv')"
      ],
      "metadata": {
        "id": "64K-C0Y9-Gc2"
      },
      "execution_count": null,
      "outputs": []
    },
    {
      "cell_type": "code",
      "source": [
        "ncaa_data.rename(columns={'1': 'Days', '2': 'Date', '3': 'Win Team', '4': 'Win Team Home', '5': 'Win Team Points', '6': 'Lose Team', '7': 'Lose Team Home', '8': 'Lose Team Points'}, inplace=True)\n",
        "ncaa_data.head(10)"
      ],
      "metadata": {
        "colab": {
          "base_uri": "https://localhost:8080/",
          "height": 363
        },
        "id": "g4Mzdh9cYZT-",
        "outputId": "d6f4bdd9-2c97-4e28-9cb6-a34a802ea6ba"
      },
      "execution_count": null,
      "outputs": [
        {
          "output_type": "execute_result",
          "data": {
            "text/plain": [
              "     Days      Date  Win Team  Win Team Home  Win Team Points  Lose Team  \\\n",
              "0  738468  20211109        26              1               73         66   \n",
              "1  738468  20211109        34              1               56        129   \n",
              "2  738468  20211109        48              1               65         85   \n",
              "3  738468  20211109        50              1               64        235   \n",
              "4  738468  20211109        58              1               99         43   \n",
              "5  738468  20211109        67              1               93         69   \n",
              "6  738468  20211109        68              1               64        120   \n",
              "7  738468  20211109        76              0               79        138   \n",
              "8  738468  20211109        82              1               70        247   \n",
              "9  738468  20211109        90              1               74         83   \n",
              "\n",
              "   Lose Team Home  Lose Team Points  \n",
              "0              -1                57  \n",
              "1              -1                47  \n",
              "2              -1                43  \n",
              "3              -1                53  \n",
              "4              -1                48  \n",
              "5              -1                71  \n",
              "6              -1                54  \n",
              "7               0                71  \n",
              "8              -1                62  \n",
              "9              -1                61  "
            ],
            "text/html": [
              "\n",
              "  <div id=\"df-6907d574-6866-476b-9ccf-b7084807337e\">\n",
              "    <div class=\"colab-df-container\">\n",
              "      <div>\n",
              "<style scoped>\n",
              "    .dataframe tbody tr th:only-of-type {\n",
              "        vertical-align: middle;\n",
              "    }\n",
              "\n",
              "    .dataframe tbody tr th {\n",
              "        vertical-align: top;\n",
              "    }\n",
              "\n",
              "    .dataframe thead th {\n",
              "        text-align: right;\n",
              "    }\n",
              "</style>\n",
              "<table border=\"1\" class=\"dataframe\">\n",
              "  <thead>\n",
              "    <tr style=\"text-align: right;\">\n",
              "      <th></th>\n",
              "      <th>Days</th>\n",
              "      <th>Date</th>\n",
              "      <th>Win Team</th>\n",
              "      <th>Win Team Home</th>\n",
              "      <th>Win Team Points</th>\n",
              "      <th>Lose Team</th>\n",
              "      <th>Lose Team Home</th>\n",
              "      <th>Lose Team Points</th>\n",
              "    </tr>\n",
              "  </thead>\n",
              "  <tbody>\n",
              "    <tr>\n",
              "      <th>0</th>\n",
              "      <td>738468</td>\n",
              "      <td>20211109</td>\n",
              "      <td>26</td>\n",
              "      <td>1</td>\n",
              "      <td>73</td>\n",
              "      <td>66</td>\n",
              "      <td>-1</td>\n",
              "      <td>57</td>\n",
              "    </tr>\n",
              "    <tr>\n",
              "      <th>1</th>\n",
              "      <td>738468</td>\n",
              "      <td>20211109</td>\n",
              "      <td>34</td>\n",
              "      <td>1</td>\n",
              "      <td>56</td>\n",
              "      <td>129</td>\n",
              "      <td>-1</td>\n",
              "      <td>47</td>\n",
              "    </tr>\n",
              "    <tr>\n",
              "      <th>2</th>\n",
              "      <td>738468</td>\n",
              "      <td>20211109</td>\n",
              "      <td>48</td>\n",
              "      <td>1</td>\n",
              "      <td>65</td>\n",
              "      <td>85</td>\n",
              "      <td>-1</td>\n",
              "      <td>43</td>\n",
              "    </tr>\n",
              "    <tr>\n",
              "      <th>3</th>\n",
              "      <td>738468</td>\n",
              "      <td>20211109</td>\n",
              "      <td>50</td>\n",
              "      <td>1</td>\n",
              "      <td>64</td>\n",
              "      <td>235</td>\n",
              "      <td>-1</td>\n",
              "      <td>53</td>\n",
              "    </tr>\n",
              "    <tr>\n",
              "      <th>4</th>\n",
              "      <td>738468</td>\n",
              "      <td>20211109</td>\n",
              "      <td>58</td>\n",
              "      <td>1</td>\n",
              "      <td>99</td>\n",
              "      <td>43</td>\n",
              "      <td>-1</td>\n",
              "      <td>48</td>\n",
              "    </tr>\n",
              "    <tr>\n",
              "      <th>5</th>\n",
              "      <td>738468</td>\n",
              "      <td>20211109</td>\n",
              "      <td>67</td>\n",
              "      <td>1</td>\n",
              "      <td>93</td>\n",
              "      <td>69</td>\n",
              "      <td>-1</td>\n",
              "      <td>71</td>\n",
              "    </tr>\n",
              "    <tr>\n",
              "      <th>6</th>\n",
              "      <td>738468</td>\n",
              "      <td>20211109</td>\n",
              "      <td>68</td>\n",
              "      <td>1</td>\n",
              "      <td>64</td>\n",
              "      <td>120</td>\n",
              "      <td>-1</td>\n",
              "      <td>54</td>\n",
              "    </tr>\n",
              "    <tr>\n",
              "      <th>7</th>\n",
              "      <td>738468</td>\n",
              "      <td>20211109</td>\n",
              "      <td>76</td>\n",
              "      <td>0</td>\n",
              "      <td>79</td>\n",
              "      <td>138</td>\n",
              "      <td>0</td>\n",
              "      <td>71</td>\n",
              "    </tr>\n",
              "    <tr>\n",
              "      <th>8</th>\n",
              "      <td>738468</td>\n",
              "      <td>20211109</td>\n",
              "      <td>82</td>\n",
              "      <td>1</td>\n",
              "      <td>70</td>\n",
              "      <td>247</td>\n",
              "      <td>-1</td>\n",
              "      <td>62</td>\n",
              "    </tr>\n",
              "    <tr>\n",
              "      <th>9</th>\n",
              "      <td>738468</td>\n",
              "      <td>20211109</td>\n",
              "      <td>90</td>\n",
              "      <td>1</td>\n",
              "      <td>74</td>\n",
              "      <td>83</td>\n",
              "      <td>-1</td>\n",
              "      <td>61</td>\n",
              "    </tr>\n",
              "  </tbody>\n",
              "</table>\n",
              "</div>\n",
              "      <button class=\"colab-df-convert\" onclick=\"convertToInteractive('df-6907d574-6866-476b-9ccf-b7084807337e')\"\n",
              "              title=\"Convert this dataframe to an interactive table.\"\n",
              "              style=\"display:none;\">\n",
              "        \n",
              "  <svg xmlns=\"http://www.w3.org/2000/svg\" height=\"24px\"viewBox=\"0 0 24 24\"\n",
              "       width=\"24px\">\n",
              "    <path d=\"M0 0h24v24H0V0z\" fill=\"none\"/>\n",
              "    <path d=\"M18.56 5.44l.94 2.06.94-2.06 2.06-.94-2.06-.94-.94-2.06-.94 2.06-2.06.94zm-11 1L8.5 8.5l.94-2.06 2.06-.94-2.06-.94L8.5 2.5l-.94 2.06-2.06.94zm10 10l.94 2.06.94-2.06 2.06-.94-2.06-.94-.94-2.06-.94 2.06-2.06.94z\"/><path d=\"M17.41 7.96l-1.37-1.37c-.4-.4-.92-.59-1.43-.59-.52 0-1.04.2-1.43.59L10.3 9.45l-7.72 7.72c-.78.78-.78 2.05 0 2.83L4 21.41c.39.39.9.59 1.41.59.51 0 1.02-.2 1.41-.59l7.78-7.78 2.81-2.81c.8-.78.8-2.07 0-2.86zM5.41 20L4 18.59l7.72-7.72 1.47 1.35L5.41 20z\"/>\n",
              "  </svg>\n",
              "      </button>\n",
              "      \n",
              "  <style>\n",
              "    .colab-df-container {\n",
              "      display:flex;\n",
              "      flex-wrap:wrap;\n",
              "      gap: 12px;\n",
              "    }\n",
              "\n",
              "    .colab-df-convert {\n",
              "      background-color: #E8F0FE;\n",
              "      border: none;\n",
              "      border-radius: 50%;\n",
              "      cursor: pointer;\n",
              "      display: none;\n",
              "      fill: #1967D2;\n",
              "      height: 32px;\n",
              "      padding: 0 0 0 0;\n",
              "      width: 32px;\n",
              "    }\n",
              "\n",
              "    .colab-df-convert:hover {\n",
              "      background-color: #E2EBFA;\n",
              "      box-shadow: 0px 1px 2px rgba(60, 64, 67, 0.3), 0px 1px 3px 1px rgba(60, 64, 67, 0.15);\n",
              "      fill: #174EA6;\n",
              "    }\n",
              "\n",
              "    [theme=dark] .colab-df-convert {\n",
              "      background-color: #3B4455;\n",
              "      fill: #D2E3FC;\n",
              "    }\n",
              "\n",
              "    [theme=dark] .colab-df-convert:hover {\n",
              "      background-color: #434B5C;\n",
              "      box-shadow: 0px 1px 3px 1px rgba(0, 0, 0, 0.15);\n",
              "      filter: drop-shadow(0px 1px 2px rgba(0, 0, 0, 0.3));\n",
              "      fill: #FFFFFF;\n",
              "    }\n",
              "  </style>\n",
              "\n",
              "      <script>\n",
              "        const buttonEl =\n",
              "          document.querySelector('#df-6907d574-6866-476b-9ccf-b7084807337e button.colab-df-convert');\n",
              "        buttonEl.style.display =\n",
              "          google.colab.kernel.accessAllowed ? 'block' : 'none';\n",
              "\n",
              "        async function convertToInteractive(key) {\n",
              "          const element = document.querySelector('#df-6907d574-6866-476b-9ccf-b7084807337e');\n",
              "          const dataTable =\n",
              "            await google.colab.kernel.invokeFunction('convertToInteractive',\n",
              "                                                     [key], {});\n",
              "          if (!dataTable) return;\n",
              "\n",
              "          const docLinkHtml = 'Like what you see? Visit the ' +\n",
              "            '<a target=\"_blank\" href=https://colab.research.google.com/notebooks/data_table.ipynb>data table notebook</a>'\n",
              "            + ' to learn more about interactive tables.';\n",
              "          element.innerHTML = '';\n",
              "          dataTable['output_type'] = 'display_data';\n",
              "          await google.colab.output.renderOutput(dataTable, element);\n",
              "          const docLink = document.createElement('div');\n",
              "          docLink.innerHTML = docLinkHtml;\n",
              "          element.appendChild(docLink);\n",
              "        }\n",
              "      </script>\n",
              "    </div>\n",
              "  </div>\n",
              "  "
            ]
          },
          "metadata": {},
          "execution_count": 100
        }
      ]
    },
    {
      "cell_type": "code",
      "source": [
        "len(ncaa_data['Days'])\n",
        "ncaa_data.shape[0]"
      ],
      "metadata": {
        "colab": {
          "base_uri": "https://localhost:8080/"
        },
        "id": "C7vHqlg_JN9V",
        "outputId": "627011b8-11df-4976-fdb0-3f80e8a32c64"
      },
      "execution_count": null,
      "outputs": [
        {
          "output_type": "execute_result",
          "data": {
            "text/plain": [
              "5475"
            ]
          },
          "metadata": {},
          "execution_count": 101
        }
      ]
    },
    {
      "cell_type": "markdown",
      "source": [
        "# **Maximum Likelihood**"
      ],
      "metadata": {
        "id": "1xdzTiFoHE4g"
      }
    },
    {
      "cell_type": "code",
      "source": [
        "win_matrix = np.zeros((358, 358))\n",
        "for x in range(len(ncaa_data['Win Team'])):\n",
        "  win_matrix[ncaa_data['Win Team'][x] - 1][ncaa_data['Lose Team'][x] - 1] = win_matrix[ncaa_data['Win Team'][x] - 1][ncaa_data['Lose Team'][x] - 1] + 1"
      ],
      "metadata": {
        "id": "IUhaSu4BG3yQ"
      },
      "execution_count": null,
      "outputs": []
    },
    {
      "cell_type": "code",
      "source": [
        "import networkx as nx \n",
        "G = nx.DiGraph()\n",
        "\n",
        "for i in range(len(win_matrix)): \n",
        " for j in range(len(win_matrix[0])): \n",
        "    for x in range((int)(win_matrix[i][j])):\n",
        "      G.add_edge(i,j) "
      ],
      "metadata": {
        "id": "5BRhNWA2ADT_"
      },
      "execution_count": null,
      "outputs": []
    },
    {
      "cell_type": "code",
      "source": [
        "import matplotlib.pyplot as plt \n",
        "#nx.draw(G, node_size=40,font_size=6) \n",
        "nx.draw_spring(G)\n",
        "plt.show() "
      ],
      "metadata": {
        "colab": {
          "base_uri": "https://localhost:8080/",
          "height": 319
        },
        "id": "WtH_nhW3A1ip",
        "outputId": "e18b7e87-6e48-4e4b-9530-28b921d21318"
      },
      "execution_count": null,
      "outputs": [
        {
          "output_type": "display_data",
          "data": {
            "text/plain": [
              "<Figure size 432x288 with 1 Axes>"
            ],
            "image/png": "[encoded data removed]"
          },
          "metadata": {}
        }
      ]
    },
    {
      "cell_type": "code",
      "source": [
        "win_matrix[56]"
      ],
      "metadata": {
        "colab": {
          "base_uri": "https://localhost:8080/"
        },
        "id": "mPPSEJIbH7a6",
        "outputId": "702544dc-4a4b-432e-e4a6-f00be8e9aaaf"
      },
      "execution_count": null,
      "outputs": [
        {
          "output_type": "execute_result",
          "data": {
            "text/plain": [
              "array([0., 0., 0., 0., 0., 0., 0., 0., 0., 0., 0., 0., 0., 0., 0., 0., 0.,\n",
              "       0., 0., 0., 0., 0., 0., 1., 0., 0., 0., 0., 0., 0., 0., 0., 0., 0.,\n",
              "       0., 0., 0., 0., 0., 0., 0., 0., 0., 0., 0., 0., 0., 0., 0., 0., 0.,\n",
              "       0., 0., 0., 0., 0., 0., 0., 0., 0., 0., 0., 0., 0., 0., 0., 0., 0.,\n",
              "       0., 0., 0., 0., 0., 0., 0., 0., 0., 0., 0., 0., 0., 0., 0., 0., 0.,\n",
              "       0., 0., 0., 0., 0., 0., 0., 0., 0., 0., 0., 0., 0., 0., 0., 0., 0.,\n",
              "       0., 0., 0., 0., 0., 0., 0., 0., 0., 0., 0., 0., 0., 0., 0., 0., 0.,\n",
              "       0., 0., 0., 0., 0., 0., 0., 0., 0., 0., 0., 0., 0., 0., 0., 0., 0.,\n",
              "       0., 0., 0., 0., 0., 0., 0., 0., 0., 0., 0., 0., 0., 0., 0., 0., 0.,\n",
              "       0., 0., 1., 0., 0., 0., 0., 0., 0., 0., 0., 0., 0., 0., 0., 0., 0.,\n",
              "       0., 0., 0., 0., 0., 0., 0., 0., 0., 0., 0., 0., 0., 0., 0., 0., 0.,\n",
              "       0., 0., 0., 0., 0., 0., 0., 0., 0., 0., 0., 0., 0., 0., 0., 0., 0.,\n",
              "       0., 0., 0., 0., 0., 0., 0., 0., 0., 0., 0., 0., 0., 0., 0., 0., 0.,\n",
              "       0., 0., 0., 0., 0., 1., 0., 0., 0., 0., 0., 0., 0., 0., 0., 0., 0.,\n",
              "       0., 0., 0., 0., 0., 0., 0., 0., 0., 0., 0., 0., 0., 0., 0., 0., 0.,\n",
              "       0., 0., 0., 0., 0., 0., 0., 0., 0., 0., 0., 0., 0., 0., 0., 0., 0.,\n",
              "       0., 0., 0., 0., 0., 0., 0., 0., 0., 0., 0., 0., 0., 0., 0., 0., 0.,\n",
              "       0., 0., 0., 0., 0., 0., 0., 0., 0., 0., 0., 0., 0., 0., 0., 0., 0.,\n",
              "       0., 0., 0., 0., 0., 0., 0., 0., 0., 0., 0., 0., 0., 0., 0., 0., 0.,\n",
              "       0., 0., 0., 0., 0., 0., 0., 0., 0., 0., 0., 0., 0., 0., 0., 0., 0.,\n",
              "       0., 0., 0., 0., 0., 0., 0., 0., 0., 0., 0., 0., 0., 0., 0., 0., 0.,\n",
              "       0.])"
            ]
          },
          "metadata": {},
          "execution_count": 105
        }
      ]
    },
    {
      "cell_type": "code",
      "source": [
        "T = [1 for x in range(358)]\n",
        "h = 0.01"
      ],
      "metadata": {
        "id": "8Ve2zNwJH8Ti"
      },
      "execution_count": null,
      "outputs": []
    },
    {
      "cell_type": "code",
      "source": [
        "def compute_ncaa_partial(t):\n",
        "  partial = 0\n",
        "  for i in range(358):\n",
        "    if i != t:\n",
        "      #print(T[i] + T[t], T[t], T[i])\n",
        "      partial += (T[i] / (T[i] + T[t])) * (win_matrix[t][i] / T[t] - win_matrix[i][t] / T[i])\n",
        "\n",
        "  return partial"
      ],
      "metadata": {
        "id": "u0xQvVEnH8vs"
      },
      "execution_count": null,
      "outputs": []
    },
    {
      "cell_type": "code",
      "source": [
        "new_T = [1 for x in range(358)]\n",
        "\n",
        "for iterations in range(1000):  \n",
        "  for i in range(358):\n",
        "    partial = compute_ncaa_partial(i)\n",
        "    new_T[i] = ((T[i] + h * np.sign(partial)) / sum(T)) * 358\n",
        "  T = new_T"
      ],
      "metadata": {
        "id": "TgNeFtjhICy3"
      },
      "execution_count": null,
      "outputs": []
    },
    {
      "cell_type": "code",
      "source": [
        "teams = pd.read_csv('/content/drive/MyDrive/SportsRankingsData/teams.csv')\n",
        "teams['Ranking'] = T\n",
        "teams = teams.sort_values('Ranking', ascending=False)\n",
        "\n",
        "final_rankings = pd.DataFrame()\n",
        "final_rankings['Ranking'] = [x for x in range(1, 26)]\n",
        "final_rankings['Maximum Likelihood'] = list(teams['Team Name'][0:25])"
      ],
      "metadata": {
        "id": "PO_bUuPGe8tR"
      },
      "execution_count": null,
      "outputs": []
    },
    {
      "cell_type": "code",
      "source": [
        "coaches_rankings = pd.read_csv('/content/drive/MyDrive/SportsRankingsData/Coaches_Rankings - Coaches_Rankings.csv').head(25)"
      ],
      "metadata": {
        "id": "bmw9j83VBcX8"
      },
      "execution_count": null,
      "outputs": []
    },
    {
      "cell_type": "code",
      "source": [
        "# k = 25\n",
        "\n",
        "correct_predictions = 0\n",
        "\n",
        "for team in coaches_rankings['TEAM']:\n",
        "  if (' ' + team) in list(teams['Team Name'][0:25]):\n",
        "    correct_predictions += 1\n",
        "\n",
        "accuracy =  correct_predictions / 25\n",
        "accuracy"
      ],
      "metadata": {
        "colab": {
          "base_uri": "https://localhost:8080/"
        },
        "id": "8sMZFqZ2AY5K",
        "outputId": "b1db1490-9289-44d7-da73-290b85317cc3"
      },
      "execution_count": null,
      "outputs": [
        {
          "output_type": "execute_result",
          "data": {
            "text/plain": [
              "0.84"
            ]
          },
          "metadata": {},
          "execution_count": 111
        }
      ]
    },
    {
      "cell_type": "markdown",
      "source": [
        "# NCAA Markov Chains"
      ],
      "metadata": {
        "id": "H4wU3LcCk5fm"
      }
    },
    {
      "cell_type": "code",
      "source": [
        "p=1\n",
        "rankings = np.array([1 for x in range(358)])"
      ],
      "metadata": {
        "id": "T0n93fH5k81I"
      },
      "execution_count": null,
      "outputs": []
    },
    {
      "cell_type": "code",
      "source": [
        "win_matrix_n = np.zeros((358, 358))\n",
        "for x in range(len(ncaa_data['Win Team'])):\n",
        "  win_matrix_n[ncaa_data['Win Team'][x] - 1][ncaa_data['Lose Team'][x] - 1] = win_matrix_n[ncaa_data['Win Team'][x] - 1][ncaa_data['Lose Team'][x] - 1] + 1"
      ],
      "metadata": {
        "id": "LxpgtTdOMO6B"
      },
      "execution_count": null,
      "outputs": []
    },
    {
      "cell_type": "code",
      "source": [
        "win_matrix_n[1, :]"
      ],
      "metadata": {
        "colab": {
          "base_uri": "https://localhost:8080/"
        },
        "id": "NsZc1BWHOoVd",
        "outputId": "7b4cdac5-0671-465f-a477-471f86c0c052"
      },
      "execution_count": null,
      "outputs": [
        {
          "output_type": "execute_result",
          "data": {
            "text/plain": [
              "array([0., 0., 0., 0., 0., 0., 0., 0., 0., 0., 0., 0., 0., 0., 0., 1., 0.,\n",
              "       0., 0., 0., 0., 0., 1., 0., 0., 0., 0., 0., 0., 0., 0., 0., 0., 0.,\n",
              "       0., 0., 0., 0., 0., 0., 0., 0., 0., 0., 0., 0., 0., 0., 0., 0., 0.,\n",
              "       0., 0., 0., 0., 0., 0., 0., 0., 0., 0., 0., 0., 0., 0., 0., 0., 0.,\n",
              "       0., 0., 1., 0., 0., 0., 0., 0., 0., 0., 0., 0., 0., 0., 0., 0., 0.,\n",
              "       0., 0., 0., 0., 0., 0., 0., 0., 0., 0., 0., 0., 0., 0., 0., 0., 0.,\n",
              "       0., 0., 0., 0., 0., 0., 0., 0., 0., 0., 0., 1., 0., 0., 0., 0., 1.,\n",
              "       0., 0., 0., 0., 0., 0., 0., 0., 0., 0., 0., 0., 0., 0., 0., 0., 0.,\n",
              "       0., 0., 0., 0., 0., 0., 0., 0., 0., 0., 0., 0., 0., 0., 0., 0., 0.,\n",
              "       0., 0., 0., 0., 0., 0., 0., 0., 0., 0., 0., 0., 0., 0., 0., 0., 0.,\n",
              "       0., 0., 0., 0., 0., 0., 0., 0., 0., 0., 0., 0., 0., 0., 0., 0., 0.,\n",
              "       0., 0., 0., 0., 0., 0., 0., 0., 0., 0., 0., 0., 0., 0., 0., 0., 0.,\n",
              "       0., 0., 0., 0., 0., 0., 0., 0., 0., 0., 0., 0., 0., 0., 0., 0., 0.,\n",
              "       0., 0., 0., 0., 0., 0., 0., 0., 0., 0., 0., 0., 0., 0., 0., 0., 0.,\n",
              "       0., 0., 0., 0., 0., 0., 0., 0., 0., 0., 0., 0., 0., 0., 0., 0., 0.,\n",
              "       2., 0., 0., 0., 0., 0., 0., 0., 0., 0., 0., 0., 0., 0., 0., 0., 0.,\n",
              "       0., 0., 0., 0., 0., 0., 0., 0., 0., 0., 0., 0., 0., 0., 0., 0., 0.,\n",
              "       0., 0., 0., 0., 0., 0., 0., 0., 0., 0., 0., 0., 0., 0., 1., 1., 0.,\n",
              "       0., 0., 0., 0., 0., 0., 0., 0., 0., 0., 0., 0., 1., 0., 0., 0., 0.,\n",
              "       1., 0., 0., 0., 0., 0., 0., 0., 0., 0., 0., 0., 0., 0., 0., 0., 0.,\n",
              "       0., 0., 0., 0., 0., 0., 0., 0., 0., 0., 0., 0., 0., 0., 0., 0., 0.,\n",
              "       0.])"
            ]
          },
          "metadata": {},
          "execution_count": 114
        }
      ]
    },
    {
      "cell_type": "code",
      "source": [
        "# transition_matrix = np.zeros((358, 358))\n",
        "# W_n = win_matrix_n.copy()\n",
        "# L_n = np.transpose(W_n)\n",
        "# print(W_n[:, 1])\n",
        "# for i in range(358):\n",
        "#   p = 1\n",
        "#   games_won = sum(win_matrix_n[i, :])\n",
        "#   games_lost = sum(win_matrix_n[:, i])\n",
        "#   games_played = games_won + games_lost\n",
        "#   W_n[:, i] = (W_n[:, i]/games_played)*p\n",
        "#   L_n[:, i] = (L_n[:, i]/games_played)*(1-p)\n",
        "#   transition_matrix[i, i] = ((games_won/games_played)*(p))+((games_lost/games_played)*(1-p))\n",
        "# transition_matrix = transition_matrix + W_n + L_n\n",
        "# #transition_matrix.sum(axis=0)\n",
        "# W_n[:, 1]"
      ],
      "metadata": {
        "id": "CZPKU5IKy9YH"
      },
      "execution_count": null,
      "outputs": []
    },
    {
      "cell_type": "code",
      "source": [
        "transition_matrix = np.zeros((358, 358))\n",
        "\n",
        "for i in range(358):\n",
        "  transition_matrix[:, i] = win_matrix_n[:, i] / (sum(win_matrix_n[:, i]) + sum(win_matrix_n[i, :]))\n",
        "  transition_matrix[i, i] = 1 - sum(transition_matrix[:, i])\n",
        "transition_matrix.sum(axis=0)"
      ],
      "metadata": {
        "colab": {
          "base_uri": "https://localhost:8080/"
        },
        "id": "Jc-Dry3gYLcb",
        "outputId": "4a84b5c9-455a-4dd3-b5b7-6fe4cb6ffc36"
      },
      "execution_count": null,
      "outputs": [
        {
          "output_type": "execute_result",
          "data": {
            "text/plain": [
              "array([1., 1., 1., 1., 1., 1., 1., 1., 1., 1., 1., 1., 1., 1., 1., 1., 1.,\n",
              "       1., 1., 1., 1., 1., 1., 1., 1., 1., 1., 1., 1., 1., 1., 1., 1., 1.,\n",
              "       1., 1., 1., 1., 1., 1., 1., 1., 1., 1., 1., 1., 1., 1., 1., 1., 1.,\n",
              "       1., 1., 1., 1., 1., 1., 1., 1., 1., 1., 1., 1., 1., 1., 1., 1., 1.,\n",
              "       1., 1., 1., 1., 1., 1., 1., 1., 1., 1., 1., 1., 1., 1., 1., 1., 1.,\n",
              "       1., 1., 1., 1., 1., 1., 1., 1., 1., 1., 1., 1., 1., 1., 1., 1., 1.,\n",
              "       1., 1., 1., 1., 1., 1., 1., 1., 1., 1., 1., 1., 1., 1., 1., 1., 1.,\n",
              "       1., 1., 1., 1., 1., 1., 1., 1., 1., 1., 1., 1., 1., 1., 1., 1., 1.,\n",
              "       1., 1., 1., 1., 1., 1., 1., 1., 1., 1., 1., 1., 1., 1., 1., 1., 1.,\n",
              "       1., 1., 1., 1., 1., 1., 1., 1., 1., 1., 1., 1., 1., 1., 1., 1., 1.,\n",
              "       1., 1., 1., 1., 1., 1., 1., 1., 1., 1., 1., 1., 1., 1., 1., 1., 1.,\n",
              "       1., 1., 1., 1., 1., 1., 1., 1., 1., 1., 1., 1., 1., 1., 1., 1., 1.,\n",
              "       1., 1., 1., 1., 1., 1., 1., 1., 1., 1., 1., 1., 1., 1., 1., 1., 1.,\n",
              "       1., 1., 1., 1., 1., 1., 1., 1., 1., 1., 1., 1., 1., 1., 1., 1., 1.,\n",
              "       1., 1., 1., 1., 1., 1., 1., 1., 1., 1., 1., 1., 1., 1., 1., 1., 1.,\n",
              "       1., 1., 1., 1., 1., 1., 1., 1., 1., 1., 1., 1., 1., 1., 1., 1., 1.,\n",
              "       1., 1., 1., 1., 1., 1., 1., 1., 1., 1., 1., 1., 1., 1., 1., 1., 1.,\n",
              "       1., 1., 1., 1., 1., 1., 1., 1., 1., 1., 1., 1., 1., 1., 1., 1., 1.,\n",
              "       1., 1., 1., 1., 1., 1., 1., 1., 1., 1., 1., 1., 1., 1., 1., 1., 1.,\n",
              "       1., 1., 1., 1., 1., 1., 1., 1., 1., 1., 1., 1., 1., 1., 1., 1., 1.,\n",
              "       1., 1., 1., 1., 1., 1., 1., 1., 1., 1., 1., 1., 1., 1., 1., 1., 1.,\n",
              "       1.])"
            ]
          },
          "metadata": {},
          "execution_count": 116
        }
      ]
    },
    {
      "cell_type": "code",
      "source": [
        "converged_transition_matrix = np.linalg.matrix_power(transition_matrix, 100)\n",
        "rankings = np.matmul(converged_transition_matrix, rankings)"
      ],
      "metadata": {
        "id": "efE8UmKAmAhT"
      },
      "execution_count": null,
      "outputs": []
    },
    {
      "cell_type": "code",
      "source": [
        "teams = pd.read_csv('/content/drive/MyDrive/SportsRankingsData/teams.csv')\n",
        "teams['Ranking'] = rankings\n",
        "teams = teams.sort_values('Ranking', ascending=False)\n",
        "final_rankings['Markov Chain'] = list(teams['Team Name'][0:25])"
      ],
      "metadata": {
        "id": "3kUbNvqxmLbl"
      },
      "execution_count": null,
      "outputs": []
    },
    {
      "cell_type": "code",
      "source": [
        "# k = 25\n",
        "\n",
        "correct_predictions = 0\n",
        "\n",
        "for team in coaches_rankings['TEAM']:\n",
        "  #print(team, list(teams['Team Name'][0:25]))\n",
        "  if (' ' + team) in list(teams['Team Name'][0:25]):\n",
        "    #print('Testing')\n",
        "    correct_predictions += 1\n",
        "\n",
        "accuracy =  correct_predictions / 25\n",
        "accuracy"
      ],
      "metadata": {
        "colab": {
          "base_uri": "https://localhost:8080/"
        },
        "id": "7b-9azH69GS1",
        "outputId": "18f7df64-f5c0-4552-9bf1-f1895bf5cfca"
      },
      "execution_count": null,
      "outputs": [
        {
          "output_type": "execute_result",
          "data": {
            "text/plain": [
              "0.76"
            ]
          },
          "metadata": {},
          "execution_count": 119
        }
      ]
    },
    {
      "cell_type": "code",
      "source": [
        "final_rankings['Coaches'] = coaches_rankings['TEAM']\n",
        "final_rankings"
      ],
      "metadata": {
        "colab": {
          "base_uri": "https://localhost:8080/",
          "height": 833
        },
        "id": "ZecpsI2bnBYL",
        "outputId": "1f05a36f-78a9-4f21-b714-fe920c0aa01f"
      },
      "execution_count": null,
      "outputs": [
        {
          "output_type": "execute_result",
          "data": {
            "text/plain": [
              "    Ranking Maximum Likelihood     Markov Chain       Coaches\n",
              "0         1         Providence           Kansas       Gonzaga\n",
              "1         2            Arizona             Duke       Arizona\n",
              "2         3            Gonzaga           Baylor        Baylor\n",
              "3         4            Houston          Arizona        Auburn\n",
              "4         5          Villanova        Villanova      Kentucky\n",
              "5         6               Duke       Texas_Tech        Kansas\n",
              "6         7             Auburn        Tennessee          Duke\n",
              "7         8             Kansas           Purdue     Villanova\n",
              "8         9          Tennessee          Gonzaga        Purdue\n",
              "9        10             Baylor       Providence    Providence\n",
              "10       11           Kentucky         Kentucky     Tennessee\n",
              "11       12               UCLA   North_Carolina     Wisconsin\n",
              "12       13       St_Mary's_CA           Auburn          UCLA\n",
              "13       14             Purdue          Houston    Texas_Tech\n",
              "14       15          Wisconsin         Arkansas      Illinois\n",
              "15       16        Colorado_St        Wisconsin      Arkansas\n",
              "16       17     North_Carolina             UCLA  St_Mary's_CA\n",
              "17       18           Arkansas         Miami_FL       Houston\n",
              "18       19         Texas_Tech            Texas     Murray_St\n",
              "19       20        Connecticut              TCU   Connecticut\n",
              "20       21           Boise_St         Illinois           USC\n",
              "21       22           Illinois      Connecticut         Texas\n",
              "22       23                USC          Alabama          Iowa\n",
              "23       24          Creighton          Iowa_St   Colorado_St\n",
              "24       25      San_Francisco        Creighton       Ohio_St"
            ],
            "text/html": [
              "\n",
              "  <div id=\"df-9e4e039e-6e0f-4920-a58b-a32bc69edf03\">\n",
              "    <div class=\"colab-df-container\">\n",
              "      <div>\n",
              "<style scoped>\n",
              "    .dataframe tbody tr th:only-of-type {\n",
              "        vertical-align: middle;\n",
              "    }\n",
              "\n",
              "    .dataframe tbody tr th {\n",
              "        vertical-align: top;\n",
              "    }\n",
              "\n",
              "    .dataframe thead th {\n",
              "        text-align: right;\n",
              "    }\n",
              "</style>\n",
              "<table border=\"1\" class=\"dataframe\">\n",
              "  <thead>\n",
              "    <tr style=\"text-align: right;\">\n",
              "      <th></th>\n",
              "      <th>Ranking</th>\n",
              "      <th>Maximum Likelihood</th>\n",
              "      <th>Markov Chain</th>\n",
              "      <th>Coaches</th>\n",
              "    </tr>\n",
              "  </thead>\n",
              "  <tbody>\n",
              "    <tr>\n",
              "      <th>0</th>\n",
              "      <td>1</td>\n",
              "      <td>Providence</td>\n",
              "      <td>Kansas</td>\n",
              "      <td>Gonzaga</td>\n",
              "    </tr>\n",
              "    <tr>\n",
              "      <th>1</th>\n",
              "      <td>2</td>\n",
              "      <td>Arizona</td>\n",
              "      <td>Duke</td>\n",
              "      <td>Arizona</td>\n",
              "    </tr>\n",
              "    <tr>\n",
              "      <th>2</th>\n",
              "      <td>3</td>\n",
              "      <td>Gonzaga</td>\n",
              "      <td>Baylor</td>\n",
              "      <td>Baylor</td>\n",
              "    </tr>\n",
              "    <tr>\n",
              "      <th>3</th>\n",
              "      <td>4</td>\n",
              "      <td>Houston</td>\n",
              "      <td>Arizona</td>\n",
              "      <td>Auburn</td>\n",
              "    </tr>\n",
              "    <tr>\n",
              "      <th>4</th>\n",
              "      <td>5</td>\n",
              "      <td>Villanova</td>\n",
              "      <td>Villanova</td>\n",
              "      <td>Kentucky</td>\n",
              "    </tr>\n",
              "    <tr>\n",
              "      <th>5</th>\n",
              "      <td>6</td>\n",
              "      <td>Duke</td>\n",
              "      <td>Texas_Tech</td>\n",
              "      <td>Kansas</td>\n",
              "    </tr>\n",
              "    <tr>\n",
              "      <th>6</th>\n",
              "      <td>7</td>\n",
              "      <td>Auburn</td>\n",
              "      <td>Tennessee</td>\n",
              "      <td>Duke</td>\n",
              "    </tr>\n",
              "    <tr>\n",
              "      <th>7</th>\n",
              "      <td>8</td>\n",
              "      <td>Kansas</td>\n",
              "      <td>Purdue</td>\n",
              "      <td>Villanova</td>\n",
              "    </tr>\n",
              "    <tr>\n",
              "      <th>8</th>\n",
              "      <td>9</td>\n",
              "      <td>Tennessee</td>\n",
              "      <td>Gonzaga</td>\n",
              "      <td>Purdue</td>\n",
              "    </tr>\n",
              "    <tr>\n",
              "      <th>9</th>\n",
              "      <td>10</td>\n",
              "      <td>Baylor</td>\n",
              "      <td>Providence</td>\n",
              "      <td>Providence</td>\n",
              "    </tr>\n",
              "    <tr>\n",
              "      <th>10</th>\n",
              "      <td>11</td>\n",
              "      <td>Kentucky</td>\n",
              "      <td>Kentucky</td>\n",
              "      <td>Tennessee</td>\n",
              "    </tr>\n",
              "    <tr>\n",
              "      <th>11</th>\n",
              "      <td>12</td>\n",
              "      <td>UCLA</td>\n",
              "      <td>North_Carolina</td>\n",
              "      <td>Wisconsin</td>\n",
              "    </tr>\n",
              "    <tr>\n",
              "      <th>12</th>\n",
              "      <td>13</td>\n",
              "      <td>St_Mary's_CA</td>\n",
              "      <td>Auburn</td>\n",
              "      <td>UCLA</td>\n",
              "    </tr>\n",
              "    <tr>\n",
              "      <th>13</th>\n",
              "      <td>14</td>\n",
              "      <td>Purdue</td>\n",
              "      <td>Houston</td>\n",
              "      <td>Texas_Tech</td>\n",
              "    </tr>\n",
              "    <tr>\n",
              "      <th>14</th>\n",
              "      <td>15</td>\n",
              "      <td>Wisconsin</td>\n",
              "      <td>Arkansas</td>\n",
              "      <td>Illinois</td>\n",
              "    </tr>\n",
              "    <tr>\n",
              "      <th>15</th>\n",
              "      <td>16</td>\n",
              "      <td>Colorado_St</td>\n",
              "      <td>Wisconsin</td>\n",
              "      <td>Arkansas</td>\n",
              "    </tr>\n",
              "    <tr>\n",
              "      <th>16</th>\n",
              "      <td>17</td>\n",
              "      <td>North_Carolina</td>\n",
              "      <td>UCLA</td>\n",
              "      <td>St_Mary's_CA</td>\n",
              "    </tr>\n",
              "    <tr>\n",
              "      <th>17</th>\n",
              "      <td>18</td>\n",
              "      <td>Arkansas</td>\n",
              "      <td>Miami_FL</td>\n",
              "      <td>Houston</td>\n",
              "    </tr>\n",
              "    <tr>\n",
              "      <th>18</th>\n",
              "      <td>19</td>\n",
              "      <td>Texas_Tech</td>\n",
              "      <td>Texas</td>\n",
              "      <td>Murray_St</td>\n",
              "    </tr>\n",
              "    <tr>\n",
              "      <th>19</th>\n",
              "      <td>20</td>\n",
              "      <td>Connecticut</td>\n",
              "      <td>TCU</td>\n",
              "      <td>Connecticut</td>\n",
              "    </tr>\n",
              "    <tr>\n",
              "      <th>20</th>\n",
              "      <td>21</td>\n",
              "      <td>Boise_St</td>\n",
              "      <td>Illinois</td>\n",
              "      <td>USC</td>\n",
              "    </tr>\n",
              "    <tr>\n",
              "      <th>21</th>\n",
              "      <td>22</td>\n",
              "      <td>Illinois</td>\n",
              "      <td>Connecticut</td>\n",
              "      <td>Texas</td>\n",
              "    </tr>\n",
              "    <tr>\n",
              "      <th>22</th>\n",
              "      <td>23</td>\n",
              "      <td>USC</td>\n",
              "      <td>Alabama</td>\n",
              "      <td>Iowa</td>\n",
              "    </tr>\n",
              "    <tr>\n",
              "      <th>23</th>\n",
              "      <td>24</td>\n",
              "      <td>Creighton</td>\n",
              "      <td>Iowa_St</td>\n",
              "      <td>Colorado_St</td>\n",
              "    </tr>\n",
              "    <tr>\n",
              "      <th>24</th>\n",
              "      <td>25</td>\n",
              "      <td>San_Francisco</td>\n",
              "      <td>Creighton</td>\n",
              "      <td>Ohio_St</td>\n",
              "    </tr>\n",
              "  </tbody>\n",
              "</table>\n",
              "</div>\n",
              "      <button class=\"colab-df-convert\" onclick=\"convertToInteractive('df-9e4e039e-6e0f-4920-a58b-a32bc69edf03')\"\n",
              "              title=\"Convert this dataframe to an interactive table.\"\n",
              "              style=\"display:none;\">\n",
              "        \n",
              "  <svg xmlns=\"http://www.w3.org/2000/svg\" height=\"24px\"viewBox=\"0 0 24 24\"\n",
              "       width=\"24px\">\n",
              "    <path d=\"M0 0h24v24H0V0z\" fill=\"none\"/>\n",
              "    <path d=\"M18.56 5.44l.94 2.06.94-2.06 2.06-.94-2.06-.94-.94-2.06-.94 2.06-2.06.94zm-11 1L8.5 8.5l.94-2.06 2.06-.94-2.06-.94L8.5 2.5l-.94 2.06-2.06.94zm10 10l.94 2.06.94-2.06 2.06-.94-2.06-.94-.94-2.06-.94 2.06-2.06.94z\"/><path d=\"M17.41 7.96l-1.37-1.37c-.4-.4-.92-.59-1.43-.59-.52 0-1.04.2-1.43.59L10.3 9.45l-7.72 7.72c-.78.78-.78 2.05 0 2.83L4 21.41c.39.39.9.59 1.41.59.51 0 1.02-.2 1.41-.59l7.78-7.78 2.81-2.81c.8-.78.8-2.07 0-2.86zM5.41 20L4 18.59l7.72-7.72 1.47 1.35L5.41 20z\"/>\n",
              "  </svg>\n",
              "      </button>\n",
              "      \n",
              "  <style>\n",
              "    .colab-df-container {\n",
              "      display:flex;\n",
              "      flex-wrap:wrap;\n",
              "      gap: 12px;\n",
              "    }\n",
              "\n",
              "    .colab-df-convert {\n",
              "      background-color: #E8F0FE;\n",
              "      border: none;\n",
              "      border-radius: 50%;\n",
              "      cursor: pointer;\n",
              "      display: none;\n",
              "      fill: #1967D2;\n",
              "      height: 32px;\n",
              "      padding: 0 0 0 0;\n",
              "      width: 32px;\n",
              "    }\n",
              "\n",
              "    .colab-df-convert:hover {\n",
              "      background-color: #E2EBFA;\n",
              "      box-shadow: 0px 1px 2px rgba(60, 64, 67, 0.3), 0px 1px 3px 1px rgba(60, 64, 67, 0.15);\n",
              "      fill: #174EA6;\n",
              "    }\n",
              "\n",
              "    [theme=dark] .colab-df-convert {\n",
              "      background-color: #3B4455;\n",
              "      fill: #D2E3FC;\n",
              "    }\n",
              "\n",
              "    [theme=dark] .colab-df-convert:hover {\n",
              "      background-color: #434B5C;\n",
              "      box-shadow: 0px 1px 3px 1px rgba(0, 0, 0, 0.15);\n",
              "      filter: drop-shadow(0px 1px 2px rgba(0, 0, 0, 0.3));\n",
              "      fill: #FFFFFF;\n",
              "    }\n",
              "  </style>\n",
              "\n",
              "      <script>\n",
              "        const buttonEl =\n",
              "          document.querySelector('#df-9e4e039e-6e0f-4920-a58b-a32bc69edf03 button.colab-df-convert');\n",
              "        buttonEl.style.display =\n",
              "          google.colab.kernel.accessAllowed ? 'block' : 'none';\n",
              "\n",
              "        async function convertToInteractive(key) {\n",
              "          const element = document.querySelector('#df-9e4e039e-6e0f-4920-a58b-a32bc69edf03');\n",
              "          const dataTable =\n",
              "            await google.colab.kernel.invokeFunction('convertToInteractive',\n",
              "                                                     [key], {});\n",
              "          if (!dataTable) return;\n",
              "\n",
              "          const docLinkHtml = 'Like what you see? Visit the ' +\n",
              "            '<a target=\"_blank\" href=https://colab.research.google.com/notebooks/data_table.ipynb>data table notebook</a>'\n",
              "            + ' to learn more about interactive tables.';\n",
              "          element.innerHTML = '';\n",
              "          dataTable['output_type'] = 'display_data';\n",
              "          await google.colab.output.renderOutput(dataTable, element);\n",
              "          const docLink = document.createElement('div');\n",
              "          docLink.innerHTML = docLinkHtml;\n",
              "          element.appendChild(docLink);\n",
              "        }\n",
              "      </script>\n",
              "    </div>\n",
              "  </div>\n",
              "  "
            ]
          },
          "metadata": {},
          "execution_count": 128
        }
      ]
    },
    {
      "cell_type": "markdown",
      "source": [
        "# **Data Source:**\n",
        "\n",
        "https://masseyratings.com/scores.php?s=379387&sub=11590&all=1&mode=2&sch=on&format=1\n",
        "\n",
        "https://www.espn.com/mens-college-basketball/rankings/_/week/18/year/2022/seasontype/2"
      ],
      "metadata": {
        "id": "s5Ej_HFlGpLw"
      }
    }
  ]
}